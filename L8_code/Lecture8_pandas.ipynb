{
  "nbformat": 4,
  "nbformat_minor": 0,
  "metadata": {
    "colab": {
      "name": "Lecture8_pandas",
      "provenance": [],
      "include_colab_link": true
    },
    "kernelspec": {
      "name": "python3",
      "display_name": "Python 3"
    }
  },
  "cells": [
    {
      "cell_type": "markdown",
      "metadata": {
        "id": "view-in-github",
        "colab_type": "text"
      },
      "source": [
        "<a href=\"https://colab.research.google.com/github/retico/cmepda_medphys/blob/master/Lecture8_pandas.ipynb\" target=\"_parent\"><img src=\"https://colab.research.google.com/assets/colab-badge.svg\" alt=\"Open In Colab\"/></a>"
      ]
    },
    {
      "cell_type": "markdown",
      "metadata": {
        "id": "FQoeOn2US4Mb",
        "colab_type": "text"
      },
      "source": [
        "# Data exploration and analysis in Pandas"
      ]
    },
    {
      "cell_type": "markdown",
      "metadata": {
        "id": "6Dl_N3ojAwPX",
        "colab_type": "text"
      },
      "source": [
        "We'll have a quick look at [pandas](https://pandas.pydata.org/), one of the most used python data analysis libraries, and at [seaborn](https://seaborn.pydata.org/), a high level API to matplotlib for statistical data visualization. Both the libraries are already installed on Colab. "
      ]
    },
    {
      "cell_type": "code",
      "metadata": {
        "id": "C-EPcFMQUIuu",
        "colab_type": "code",
        "colab": {}
      },
      "source": [
        "import pandas as pd\n",
        "import matplotlib.pyplot as plt\n",
        "import seaborn as sns"
      ],
      "execution_count": 0,
      "outputs": []
    },
    {
      "cell_type": "markdown",
      "metadata": {
        "id": "zGO70JoqS91d",
        "colab_type": "text"
      },
      "source": [
        "## Read the dataset\n"
      ]
    },
    {
      "cell_type": "markdown",
      "metadata": {
        "id": "k1Ok4AJeHGex",
        "colab_type": "text"
      },
      "source": [
        "A DataFrames is basically a container for and exposes lots of methods to process tabular data. Data series are stored, instead, in pandas Series.\n",
        "\n",
        "Pandas offers plenty of readers out of the box."
      ]
    },
    {
      "cell_type": "code",
      "metadata": {
        "id": "5XpHlrM4F4nv",
        "colab_type": "code",
        "outputId": "6803d2b5-1cea-41b4-f3a8-1d9787b8fbc4",
        "colab": {
          "base_uri": "https://localhost:8080/",
          "height": 366
        }
      },
      "source": [
        "[x for x in dir(pd) if 'read' in x ]"
      ],
      "execution_count": 141,
      "outputs": [
        {
          "output_type": "execute_result",
          "data": {
            "text/plain": [
              "['read_clipboard',\n",
              " 'read_csv',\n",
              " 'read_excel',\n",
              " 'read_feather',\n",
              " 'read_fwf',\n",
              " 'read_gbq',\n",
              " 'read_hdf',\n",
              " 'read_html',\n",
              " 'read_json',\n",
              " 'read_msgpack',\n",
              " 'read_parquet',\n",
              " 'read_pickle',\n",
              " 'read_sas',\n",
              " 'read_spss',\n",
              " 'read_sql',\n",
              " 'read_sql_query',\n",
              " 'read_sql_table',\n",
              " 'read_stata',\n",
              " 'read_table']"
            ]
          },
          "metadata": {
            "tags": []
          },
          "execution_count": 141
        }
      ]
    },
    {
      "cell_type": "markdown",
      "metadata": {
        "id": "mH6Zm6e-HiT5",
        "colab_type": "text"
      },
      "source": [
        "Let's read a csv file as a Pandas dataframe. \n"
      ]
    },
    {
      "cell_type": "code",
      "metadata": {
        "id": "NFzkcJXVY6Rb",
        "colab_type": "code",
        "colab": {}
      },
      "source": [
        "dataset_url = \"https://raw.githubusercontent.com/retico/cmepda_medphys/master/L8_code/FS_features_ABIDE_males_someGlobals.csv\""
      ],
      "execution_count": 0,
      "outputs": []
    },
    {
      "cell_type": "code",
      "metadata": {
        "id": "4Mkm2b86UKTs",
        "colab_type": "code",
        "outputId": "9bd7d1d8-c2f5-471d-fa72-c2fd9292caf9",
        "colab": {
          "base_uri": "https://localhost:8080/",
          "height": 206
        }
      },
      "source": [
        "df = pd.read_csv(dataset_url)\n",
        "df.head()"
      ],
      "execution_count": 143,
      "outputs": [
        {
          "output_type": "execute_result",
          "data": {
            "text/html": [
              "<div>\n",
              "<style scoped>\n",
              "    .dataframe tbody tr th:only-of-type {\n",
              "        vertical-align: middle;\n",
              "    }\n",
              "\n",
              "    .dataframe tbody tr th {\n",
              "        vertical-align: top;\n",
              "    }\n",
              "\n",
              "    .dataframe thead th {\n",
              "        text-align: right;\n",
              "    }\n",
              "</style>\n",
              "<table border=\"1\" class=\"dataframe\">\n",
              "  <thead>\n",
              "    <tr style=\"text-align: right;\">\n",
              "      <th></th>\n",
              "      <th>FILE_ID</th>\n",
              "      <th>AGE_AT_SCAN</th>\n",
              "      <th>SEX</th>\n",
              "      <th>FIQ</th>\n",
              "      <th>DX_GROUP</th>\n",
              "      <th>lh_MeanThickness</th>\n",
              "      <th>rh_MeanThickness</th>\n",
              "      <th>lhCortexVol</th>\n",
              "      <th>rhCortexVol</th>\n",
              "      <th>lhCerebralWhiteMatterVol</th>\n",
              "      <th>rhCerebralWhiteMatterVol</th>\n",
              "      <th>TotalGrayVol</th>\n",
              "    </tr>\n",
              "  </thead>\n",
              "  <tbody>\n",
              "    <tr>\n",
              "      <th>0</th>\n",
              "      <td>Caltech_0051456</td>\n",
              "      <td>55.4</td>\n",
              "      <td>1</td>\n",
              "      <td>126.0</td>\n",
              "      <td>1</td>\n",
              "      <td>2.52039</td>\n",
              "      <td>2.52379</td>\n",
              "      <td>258703.4443</td>\n",
              "      <td>262670.1207</td>\n",
              "      <td>262254.9768</td>\n",
              "      <td>265741.1295</td>\n",
              "      <td>701211.5651</td>\n",
              "    </tr>\n",
              "    <tr>\n",
              "      <th>1</th>\n",
              "      <td>Caltech_0051457</td>\n",
              "      <td>22.9</td>\n",
              "      <td>1</td>\n",
              "      <td>107.0</td>\n",
              "      <td>1</td>\n",
              "      <td>2.55533</td>\n",
              "      <td>2.56998</td>\n",
              "      <td>321132.1284</td>\n",
              "      <td>317004.7945</td>\n",
              "      <td>304528.2513</td>\n",
              "      <td>301555.0187</td>\n",
              "      <td>841485.9229</td>\n",
              "    </tr>\n",
              "    <tr>\n",
              "      <th>2</th>\n",
              "      <td>Caltech_0051458</td>\n",
              "      <td>39.2</td>\n",
              "      <td>1</td>\n",
              "      <td>93.0</td>\n",
              "      <td>1</td>\n",
              "      <td>2.64518</td>\n",
              "      <td>2.63160</td>\n",
              "      <td>266418.9917</td>\n",
              "      <td>266456.1701</td>\n",
              "      <td>271683.1723</td>\n",
              "      <td>266494.7088</td>\n",
              "      <td>726728.1619</td>\n",
              "    </tr>\n",
              "    <tr>\n",
              "      <th>3</th>\n",
              "      <td>Caltech_0051459</td>\n",
              "      <td>22.8</td>\n",
              "      <td>1</td>\n",
              "      <td>106.0</td>\n",
              "      <td>1</td>\n",
              "      <td>2.70814</td>\n",
              "      <td>2.72762</td>\n",
              "      <td>307157.4469</td>\n",
              "      <td>310540.0389</td>\n",
              "      <td>258618.7918</td>\n",
              "      <td>255480.2694</td>\n",
              "      <td>794676.4859</td>\n",
              "    </tr>\n",
              "    <tr>\n",
              "      <th>4</th>\n",
              "      <td>Caltech_0051461</td>\n",
              "      <td>37.7</td>\n",
              "      <td>1</td>\n",
              "      <td>99.0</td>\n",
              "      <td>1</td>\n",
              "      <td>2.59002</td>\n",
              "      <td>2.61012</td>\n",
              "      <td>263932.5269</td>\n",
              "      <td>269417.2519</td>\n",
              "      <td>242330.5838</td>\n",
              "      <td>232809.9268</td>\n",
              "      <td>714122.7788</td>\n",
              "    </tr>\n",
              "  </tbody>\n",
              "</table>\n",
              "</div>"
            ],
            "text/plain": [
              "           FILE_ID  AGE_AT_SCAN  ...  rhCerebralWhiteMatterVol  TotalGrayVol\n",
              "0  Caltech_0051456         55.4  ...               265741.1295   701211.5651\n",
              "1  Caltech_0051457         22.9  ...               301555.0187   841485.9229\n",
              "2  Caltech_0051458         39.2  ...               266494.7088   726728.1619\n",
              "3  Caltech_0051459         22.8  ...               255480.2694   794676.4859\n",
              "4  Caltech_0051461         37.7  ...               232809.9268   714122.7788\n",
              "\n",
              "[5 rows x 12 columns]"
            ]
          },
          "metadata": {
            "tags": []
          },
          "execution_count": 143
        }
      ]
    },
    {
      "cell_type": "code",
      "metadata": {
        "id": "TL-OtgTR6fv5",
        "colab_type": "code",
        "outputId": "f6ab1a00-f319-4552-b25d-0daa1ec1ba21",
        "colab": {
          "base_uri": "https://localhost:8080/",
          "height": 35
        }
      },
      "source": [
        "print(type(df), type(df.FILE_ID))"
      ],
      "execution_count": 144,
      "outputs": [
        {
          "output_type": "stream",
          "text": [
            "<class 'pandas.core.frame.DataFrame'> <class 'pandas.core.series.Series'>\n"
          ],
          "name": "stdout"
        }
      ]
    },
    {
      "cell_type": "code",
      "metadata": {
        "id": "l2k7p_pJUmgM",
        "colab_type": "code",
        "outputId": "fb8410cd-d759-48ec-aef4-99c5f58d2824",
        "colab": {
          "base_uri": "https://localhost:8080/",
          "height": 90
        }
      },
      "source": [
        "df.columns"
      ],
      "execution_count": 145,
      "outputs": [
        {
          "output_type": "execute_result",
          "data": {
            "text/plain": [
              "Index(['FILE_ID', 'AGE_AT_SCAN', 'SEX', 'FIQ', 'DX_GROUP', 'lh_MeanThickness',\n",
              "       'rh_MeanThickness', 'lhCortexVol', 'rhCortexVol',\n",
              "       'lhCerebralWhiteMatterVol', 'rhCerebralWhiteMatterVol', 'TotalGrayVol'],\n",
              "      dtype='object')"
            ]
          },
          "metadata": {
            "tags": []
          },
          "execution_count": 145
        }
      ]
    },
    {
      "cell_type": "markdown",
      "metadata": {
        "id": "9DFaFTcHH0xS",
        "colab_type": "text"
      },
      "source": [
        "Since it is hard to remember what DX_GROUP=1 actually means, let's make this column more readable.\n",
        "\n",
        "Firt, we select the DX_GROUP column, then we apply a function to all its elements."
      ]
    },
    {
      "cell_type": "code",
      "metadata": {
        "id": "72_rTHZGiRqZ",
        "colab_type": "code",
        "outputId": "1763c3d6-c2ee-4dbe-cfcd-3f57c546029d",
        "colab": {
          "base_uri": "https://localhost:8080/",
          "height": 206
        }
      },
      "source": [
        "df['DX_GROUP'] = df.DX_GROUP.apply(lambda x: 'Controls' if x==-1 else 'ASD')\n",
        "df.head()"
      ],
      "execution_count": 146,
      "outputs": [
        {
          "output_type": "execute_result",
          "data": {
            "text/html": [
              "<div>\n",
              "<style scoped>\n",
              "    .dataframe tbody tr th:only-of-type {\n",
              "        vertical-align: middle;\n",
              "    }\n",
              "\n",
              "    .dataframe tbody tr th {\n",
              "        vertical-align: top;\n",
              "    }\n",
              "\n",
              "    .dataframe thead th {\n",
              "        text-align: right;\n",
              "    }\n",
              "</style>\n",
              "<table border=\"1\" class=\"dataframe\">\n",
              "  <thead>\n",
              "    <tr style=\"text-align: right;\">\n",
              "      <th></th>\n",
              "      <th>FILE_ID</th>\n",
              "      <th>AGE_AT_SCAN</th>\n",
              "      <th>SEX</th>\n",
              "      <th>FIQ</th>\n",
              "      <th>DX_GROUP</th>\n",
              "      <th>lh_MeanThickness</th>\n",
              "      <th>rh_MeanThickness</th>\n",
              "      <th>lhCortexVol</th>\n",
              "      <th>rhCortexVol</th>\n",
              "      <th>lhCerebralWhiteMatterVol</th>\n",
              "      <th>rhCerebralWhiteMatterVol</th>\n",
              "      <th>TotalGrayVol</th>\n",
              "    </tr>\n",
              "  </thead>\n",
              "  <tbody>\n",
              "    <tr>\n",
              "      <th>0</th>\n",
              "      <td>Caltech_0051456</td>\n",
              "      <td>55.4</td>\n",
              "      <td>1</td>\n",
              "      <td>126.0</td>\n",
              "      <td>ASD</td>\n",
              "      <td>2.52039</td>\n",
              "      <td>2.52379</td>\n",
              "      <td>258703.4443</td>\n",
              "      <td>262670.1207</td>\n",
              "      <td>262254.9768</td>\n",
              "      <td>265741.1295</td>\n",
              "      <td>701211.5651</td>\n",
              "    </tr>\n",
              "    <tr>\n",
              "      <th>1</th>\n",
              "      <td>Caltech_0051457</td>\n",
              "      <td>22.9</td>\n",
              "      <td>1</td>\n",
              "      <td>107.0</td>\n",
              "      <td>ASD</td>\n",
              "      <td>2.55533</td>\n",
              "      <td>2.56998</td>\n",
              "      <td>321132.1284</td>\n",
              "      <td>317004.7945</td>\n",
              "      <td>304528.2513</td>\n",
              "      <td>301555.0187</td>\n",
              "      <td>841485.9229</td>\n",
              "    </tr>\n",
              "    <tr>\n",
              "      <th>2</th>\n",
              "      <td>Caltech_0051458</td>\n",
              "      <td>39.2</td>\n",
              "      <td>1</td>\n",
              "      <td>93.0</td>\n",
              "      <td>ASD</td>\n",
              "      <td>2.64518</td>\n",
              "      <td>2.63160</td>\n",
              "      <td>266418.9917</td>\n",
              "      <td>266456.1701</td>\n",
              "      <td>271683.1723</td>\n",
              "      <td>266494.7088</td>\n",
              "      <td>726728.1619</td>\n",
              "    </tr>\n",
              "    <tr>\n",
              "      <th>3</th>\n",
              "      <td>Caltech_0051459</td>\n",
              "      <td>22.8</td>\n",
              "      <td>1</td>\n",
              "      <td>106.0</td>\n",
              "      <td>ASD</td>\n",
              "      <td>2.70814</td>\n",
              "      <td>2.72762</td>\n",
              "      <td>307157.4469</td>\n",
              "      <td>310540.0389</td>\n",
              "      <td>258618.7918</td>\n",
              "      <td>255480.2694</td>\n",
              "      <td>794676.4859</td>\n",
              "    </tr>\n",
              "    <tr>\n",
              "      <th>4</th>\n",
              "      <td>Caltech_0051461</td>\n",
              "      <td>37.7</td>\n",
              "      <td>1</td>\n",
              "      <td>99.0</td>\n",
              "      <td>ASD</td>\n",
              "      <td>2.59002</td>\n",
              "      <td>2.61012</td>\n",
              "      <td>263932.5269</td>\n",
              "      <td>269417.2519</td>\n",
              "      <td>242330.5838</td>\n",
              "      <td>232809.9268</td>\n",
              "      <td>714122.7788</td>\n",
              "    </tr>\n",
              "  </tbody>\n",
              "</table>\n",
              "</div>"
            ],
            "text/plain": [
              "           FILE_ID  AGE_AT_SCAN  ...  rhCerebralWhiteMatterVol  TotalGrayVol\n",
              "0  Caltech_0051456         55.4  ...               265741.1295   701211.5651\n",
              "1  Caltech_0051457         22.9  ...               301555.0187   841485.9229\n",
              "2  Caltech_0051458         39.2  ...               266494.7088   726728.1619\n",
              "3  Caltech_0051459         22.8  ...               255480.2694   794676.4859\n",
              "4  Caltech_0051461         37.7  ...               232809.9268   714122.7788\n",
              "\n",
              "[5 rows x 12 columns]"
            ]
          },
          "metadata": {
            "tags": []
          },
          "execution_count": 146
        }
      ]
    },
    {
      "cell_type": "code",
      "metadata": {
        "id": "75IFndL3JhNv",
        "colab_type": "code",
        "outputId": "d8387b6f-975f-4570-d63e-ad8a4cb9dfb3",
        "colab": {
          "base_uri": "https://localhost:8080/",
          "height": 35
        }
      },
      "source": [
        "df.DX_GROUP.unique()"
      ],
      "execution_count": 147,
      "outputs": [
        {
          "output_type": "execute_result",
          "data": {
            "text/plain": [
              "array(['ASD', 'Controls'], dtype=object)"
            ]
          },
          "metadata": {
            "tags": []
          },
          "execution_count": 147
        }
      ]
    },
    {
      "cell_type": "markdown",
      "metadata": {
        "id": "4LdXAUJAJd4F",
        "colab_type": "text"
      },
      "source": [
        "# Boxplots"
      ]
    },
    {
      "cell_type": "code",
      "metadata": {
        "id": "MsiGocGDhEBa",
        "colab_type": "code",
        "outputId": "ced70347-4b1c-4fdb-bfe8-9f6ea9b3e035",
        "colab": {
          "base_uri": "https://localhost:8080/",
          "height": 295
        }
      },
      "source": [
        "boxplot = df.boxplot(column=['AGE_AT_SCAN'], by='DX_GROUP', showfliers=False)\n",
        "boxplot.set_title('Box plot of subject\\'s age')\n",
        "boxplot.get_figure().suptitle('');"
      ],
      "execution_count": 148,
      "outputs": [
        {
          "output_type": "display_data",
          "data": {
            "image/png": "[encoded data removed]",
            "text/plain": [
              "<Figure size 432x288 with 1 Axes>"
            ]
          },
          "metadata": {
            "tags": []
          }
        }
      ]
    },
    {
      "cell_type": "markdown",
      "metadata": {
        "id": "dtZY2oeH3oq9",
        "colab_type": "text"
      },
      "source": [
        "The provenance site is part of the FILE_ID, we can extract and add it to a new column"
      ]
    },
    {
      "cell_type": "code",
      "metadata": {
        "id": "pJilqxqemnDv",
        "colab_type": "code",
        "colab": {}
      },
      "source": [
        "df['ProvenanceSite'] = df.FILE_ID.apply(lambda x: x.split('_')[0])"
      ],
      "execution_count": 0,
      "outputs": []
    },
    {
      "cell_type": "code",
      "metadata": {
        "colab_type": "code",
        "outputId": "4e2761bd-9cf4-4a35-838f-7410ea7c2b21",
        "id": "NM2fc4OPmNkg",
        "colab": {
          "base_uri": "https://localhost:8080/",
          "height": 323
        }
      },
      "source": [
        "boxplot = df.boxplot(column=['AGE_AT_SCAN'], by='ProvenanceSite', showfliers=False)\n",
        "boxplot.set_title('Box plot of subject\\'s age')\n",
        "boxplot.get_figure().suptitle('');\n",
        "boxplot.set_ylabel('Age [y]')\n",
        "\n",
        "boxplot.set_xticklabels(labels=boxplot.get_xticklabels(), rotation=50);"
      ],
      "execution_count": 150,
      "outputs": [
        {
          "output_type": "display_data",
          "data": {
            "image/png": "[encoded data removed]",
            "text/plain": [
              "<Figure size 432x288 with 1 Axes>"
            ]
          },
          "metadata": {
            "tags": []
          }
        }
      ]
    },
    {
      "cell_type": "markdown",
      "metadata": {
        "id": "Hy2ddwra4ZEK",
        "colab_type": "text"
      },
      "source": [
        "Seaborn interoperates well with pandas DataFrame and allows us to refer to columns by label"
      ]
    },
    {
      "cell_type": "code",
      "metadata": {
        "id": "zkl7JtSorLjT",
        "colab_type": "code",
        "outputId": "dd731b61-9b6b-453f-a3be-27a8c96ce4b4",
        "colab": {
          "base_uri": "https://localhost:8080/",
          "height": 309
        }
      },
      "source": [
        "sns_boxplot = sns.boxplot(x='ProvenanceSite', y='AGE_AT_SCAN', data=df)\n",
        "sns_boxplot.set_xticklabels(labels=boxplot.get_xticklabels(), rotation=50);\n",
        "sns_boxplot.grid()"
      ],
      "execution_count": 151,
      "outputs": [
        {
          "output_type": "display_data",
          "data": {
            "image/png": "[encoded data removed]",
            "text/plain": [
              "<Figure size 432x288 with 1 Axes>"
            ]
          },
          "metadata": {
            "tags": []
          }
        }
      ]
    },
    {
      "cell_type": "markdown",
      "metadata": {
        "id": "AeAXQ-M74-5a",
        "colab_type": "text"
      },
      "source": [
        "# Grouping"
      ]
    },
    {
      "cell_type": "markdown",
      "metadata": {
        "id": "PeGA7dgs5WMt",
        "colab_type": "text"
      },
      "source": [
        "Data can be grouped by feature and summarized according to a given accumulation function"
      ]
    },
    {
      "cell_type": "code",
      "metadata": {
        "id": "20KQwnjZVBUR",
        "colab_type": "code",
        "outputId": "07f9b285-32dc-4a60-c15d-436a8848db0f",
        "colab": {
          "base_uri": "https://localhost:8080/",
          "height": 35
        }
      },
      "source": [
        "df.groupby(by='AGE_AT_SCAN')"
      ],
      "execution_count": 152,
      "outputs": [
        {
          "output_type": "execute_result",
          "data": {
            "text/plain": [
              "<pandas.core.groupby.generic.DataFrameGroupBy object at 0x7f9c9d393c88>"
            ]
          },
          "metadata": {
            "tags": []
          },
          "execution_count": 152
        }
      ]
    },
    {
      "cell_type": "code",
      "metadata": {
        "id": "GNNQLXyz604L",
        "colab_type": "code",
        "outputId": "d980e66a-6ec2-4900-acef-a9f61dd393a5",
        "colab": {
          "base_uri": "https://localhost:8080/",
          "height": 35
        }
      },
      "source": [
        "df.groupby(by='AGE_AT_SCAN')['FILE_ID']"
      ],
      "execution_count": 153,
      "outputs": [
        {
          "output_type": "execute_result",
          "data": {
            "text/plain": [
              "<pandas.core.groupby.generic.SeriesGroupBy object at 0x7f9c9dae40f0>"
            ]
          },
          "metadata": {
            "tags": []
          },
          "execution_count": 153
        }
      ]
    },
    {
      "cell_type": "code",
      "metadata": {
        "id": "TuuctXqOrbBB",
        "colab_type": "code",
        "outputId": "27519fbd-624c-4843-86ad-f327ad0a61fc",
        "colab": {
          "base_uri": "https://localhost:8080/",
          "height": 366
        }
      },
      "source": [
        "provenance_counts = df.groupby('ProvenanceSite')['FILE_ID'].count()\n",
        "provenance_counts"
      ],
      "execution_count": 154,
      "outputs": [
        {
          "output_type": "execute_result",
          "data": {
            "text/plain": [
              "ProvenanceSite\n",
              "CMU          21\n",
              "Caltech      30\n",
              "KKI          42\n",
              "Leuven       55\n",
              "MaxMun       47\n",
              "NYU         147\n",
              "OHSU         28\n",
              "Olin         31\n",
              "Pitt         48\n",
              "SBL          30\n",
              "SDSU         28\n",
              "Stanford     30\n",
              "Trinity      49\n",
              "UCLA         85\n",
              "UM          103\n",
              "USM         101\n",
              "Yale         40\n",
              "Name: FILE_ID, dtype: int64"
            ]
          },
          "metadata": {
            "tags": []
          },
          "execution_count": 154
        }
      ]
    },
    {
      "cell_type": "markdown",
      "metadata": {
        "id": "GWuZuHU67Ois",
        "colab_type": "text"
      },
      "source": [
        "It is quite easy to obtain a bar plot from a pandas Series"
      ]
    },
    {
      "cell_type": "code",
      "metadata": {
        "id": "VyiahQiDsmzI",
        "colab_type": "code",
        "outputId": "4e24ab21-c4f8-4e73-a9c3-397dbf3fd37c",
        "colab": {
          "base_uri": "https://localhost:8080/",
          "height": 330
        }
      },
      "source": [
        "provenance_counts.plot(kind='bar')"
      ],
      "execution_count": 155,
      "outputs": [
        {
          "output_type": "execute_result",
          "data": {
            "text/plain": [
              "<matplotlib.axes._subplots.AxesSubplot at 0x7f9ca935c828>"
            ]
          },
          "metadata": {
            "tags": []
          },
          "execution_count": 155
        },
        {
          "output_type": "display_data",
          "data": {
            "image/png": "[encoded data removed]",
            "text/plain": [
              "<Figure size 432x288 with 1 Axes>"
            ]
          },
          "metadata": {
            "tags": []
          }
        }
      ]
    },
    {
      "cell_type": "markdown",
      "metadata": {
        "id": "ARmVSwjo7WpZ",
        "colab_type": "text"
      },
      "source": [
        "Now lets try to create a stacked bar plot showing the DX_GROUP"
      ]
    },
    {
      "cell_type": "code",
      "metadata": {
        "id": "hKPL857i70xp",
        "colab_type": "code",
        "outputId": "207c5111-c026-44d7-a168-fbe82061599b",
        "colab": {
          "base_uri": "https://localhost:8080/",
          "height": 678
        }
      },
      "source": [
        "stack = df.groupby(['ProvenanceSite', 'DX_GROUP'])['FILE_ID'].count()\n",
        "stack"
      ],
      "execution_count": 156,
      "outputs": [
        {
          "output_type": "execute_result",
          "data": {
            "text/plain": [
              "ProvenanceSite  DX_GROUP\n",
              "CMU             ASD         11\n",
              "                Controls    10\n",
              "Caltech         ASD         15\n",
              "                Controls    15\n",
              "KKI             ASD         18\n",
              "                Controls    24\n",
              "Leuven          ASD         26\n",
              "                Controls    29\n",
              "MaxMun          ASD         19\n",
              "                Controls    28\n",
              "NYU             ASD         68\n",
              "                Controls    79\n",
              "OHSU            ASD         13\n",
              "                Controls    15\n",
              "Olin            ASD         17\n",
              "                Controls    14\n",
              "Pitt            ASD         26\n",
              "                Controls    22\n",
              "SBL             ASD         15\n",
              "                Controls    15\n",
              "SDSU            ASD         13\n",
              "                Controls    15\n",
              "Stanford        ASD         15\n",
              "                Controls    15\n",
              "Trinity         ASD         24\n",
              "                Controls    25\n",
              "UCLA            ASD         46\n",
              "                Controls    39\n",
              "UM              ASD         47\n",
              "                Controls    56\n",
              "USM             ASD         58\n",
              "                Controls    43\n",
              "Yale            ASD         20\n",
              "                Controls    20\n",
              "Name: FILE_ID, dtype: int64"
            ]
          },
          "metadata": {
            "tags": []
          },
          "execution_count": 156
        }
      ]
    },
    {
      "cell_type": "code",
      "metadata": {
        "colab_type": "code",
        "outputId": "cd0e3784-4fc0-408f-bfbd-596cd39b5925",
        "id": "G1V2dqIo7qVi",
        "colab": {
          "base_uri": "https://localhost:8080/",
          "height": 614
        }
      },
      "source": [
        "unstacked = stack.unstack('DX_GROUP')\n",
        "unstacked"
      ],
      "execution_count": 157,
      "outputs": [
        {
          "output_type": "execute_result",
          "data": {
            "text/html": [
              "<div>\n",
              "<style scoped>\n",
              "    .dataframe tbody tr th:only-of-type {\n",
              "        vertical-align: middle;\n",
              "    }\n",
              "\n",
              "    .dataframe tbody tr th {\n",
              "        vertical-align: top;\n",
              "    }\n",
              "\n",
              "    .dataframe thead th {\n",
              "        text-align: right;\n",
              "    }\n",
              "</style>\n",
              "<table border=\"1\" class=\"dataframe\">\n",
              "  <thead>\n",
              "    <tr style=\"text-align: right;\">\n",
              "      <th>DX_GROUP</th>\n",
              "      <th>ASD</th>\n",
              "      <th>Controls</th>\n",
              "    </tr>\n",
              "    <tr>\n",
              "      <th>ProvenanceSite</th>\n",
              "      <th></th>\n",
              "      <th></th>\n",
              "    </tr>\n",
              "  </thead>\n",
              "  <tbody>\n",
              "    <tr>\n",
              "      <th>CMU</th>\n",
              "      <td>11</td>\n",
              "      <td>10</td>\n",
              "    </tr>\n",
              "    <tr>\n",
              "      <th>Caltech</th>\n",
              "      <td>15</td>\n",
              "      <td>15</td>\n",
              "    </tr>\n",
              "    <tr>\n",
              "      <th>KKI</th>\n",
              "      <td>18</td>\n",
              "      <td>24</td>\n",
              "    </tr>\n",
              "    <tr>\n",
              "      <th>Leuven</th>\n",
              "      <td>26</td>\n",
              "      <td>29</td>\n",
              "    </tr>\n",
              "    <tr>\n",
              "      <th>MaxMun</th>\n",
              "      <td>19</td>\n",
              "      <td>28</td>\n",
              "    </tr>\n",
              "    <tr>\n",
              "      <th>NYU</th>\n",
              "      <td>68</td>\n",
              "      <td>79</td>\n",
              "    </tr>\n",
              "    <tr>\n",
              "      <th>OHSU</th>\n",
              "      <td>13</td>\n",
              "      <td>15</td>\n",
              "    </tr>\n",
              "    <tr>\n",
              "      <th>Olin</th>\n",
              "      <td>17</td>\n",
              "      <td>14</td>\n",
              "    </tr>\n",
              "    <tr>\n",
              "      <th>Pitt</th>\n",
              "      <td>26</td>\n",
              "      <td>22</td>\n",
              "    </tr>\n",
              "    <tr>\n",
              "      <th>SBL</th>\n",
              "      <td>15</td>\n",
              "      <td>15</td>\n",
              "    </tr>\n",
              "    <tr>\n",
              "      <th>SDSU</th>\n",
              "      <td>13</td>\n",
              "      <td>15</td>\n",
              "    </tr>\n",
              "    <tr>\n",
              "      <th>Stanford</th>\n",
              "      <td>15</td>\n",
              "      <td>15</td>\n",
              "    </tr>\n",
              "    <tr>\n",
              "      <th>Trinity</th>\n",
              "      <td>24</td>\n",
              "      <td>25</td>\n",
              "    </tr>\n",
              "    <tr>\n",
              "      <th>UCLA</th>\n",
              "      <td>46</td>\n",
              "      <td>39</td>\n",
              "    </tr>\n",
              "    <tr>\n",
              "      <th>UM</th>\n",
              "      <td>47</td>\n",
              "      <td>56</td>\n",
              "    </tr>\n",
              "    <tr>\n",
              "      <th>USM</th>\n",
              "      <td>58</td>\n",
              "      <td>43</td>\n",
              "    </tr>\n",
              "    <tr>\n",
              "      <th>Yale</th>\n",
              "      <td>20</td>\n",
              "      <td>20</td>\n",
              "    </tr>\n",
              "  </tbody>\n",
              "</table>\n",
              "</div>"
            ],
            "text/plain": [
              "DX_GROUP        ASD  Controls\n",
              "ProvenanceSite               \n",
              "CMU              11        10\n",
              "Caltech          15        15\n",
              "KKI              18        24\n",
              "Leuven           26        29\n",
              "MaxMun           19        28\n",
              "NYU              68        79\n",
              "OHSU             13        15\n",
              "Olin             17        14\n",
              "Pitt             26        22\n",
              "SBL              15        15\n",
              "SDSU             13        15\n",
              "Stanford         15        15\n",
              "Trinity          24        25\n",
              "UCLA             46        39\n",
              "UM               47        56\n",
              "USM              58        43\n",
              "Yale             20        20"
            ]
          },
          "metadata": {
            "tags": []
          },
          "execution_count": 157
        }
      ]
    },
    {
      "cell_type": "code",
      "metadata": {
        "id": "tnfQJQw0ttXy",
        "colab_type": "code",
        "outputId": "2d3666be-b638-4c44-ede9-38eeb36e2491",
        "colab": {
          "base_uri": "https://localhost:8080/",
          "height": 330
        }
      },
      "source": [
        "unstacked.plot(kind='bar', stacked=True)"
      ],
      "execution_count": 158,
      "outputs": [
        {
          "output_type": "execute_result",
          "data": {
            "text/plain": [
              "<matplotlib.axes._subplots.AxesSubplot at 0x7f9c9d021048>"
            ]
          },
          "metadata": {
            "tags": []
          },
          "execution_count": 158
        },
        {
          "output_type": "display_data",
          "data": {
            "image/png": "[encoded data removed]",
            "text/plain": [
              "<Figure size 432x288 with 1 Axes>"
            ]
          },
          "metadata": {
            "tags": []
          }
        }
      ]
    },
    {
      "cell_type": "markdown",
      "metadata": {
        "id": "ZI7ekmM68vCR",
        "colab_type": "text"
      },
      "source": [
        "# Slicing"
      ]
    },
    {
      "cell_type": "markdown",
      "metadata": {
        "id": "HgZsVrLH8znc",
        "colab_type": "text"
      },
      "source": [
        "To select ranges of rows and/or columns it is possible to use labels or indices."
      ]
    },
    {
      "cell_type": "code",
      "metadata": {
        "id": "8cdkAC7vv4tW",
        "colab_type": "code",
        "outputId": "54fe99af-7e78-4cb5-cdb8-451b165c99d0",
        "colab": {
          "base_uri": "https://localhost:8080/",
          "height": 109
        }
      },
      "source": [
        "df.columns"
      ],
      "execution_count": 159,
      "outputs": [
        {
          "output_type": "execute_result",
          "data": {
            "text/plain": [
              "Index(['FILE_ID', 'AGE_AT_SCAN', 'SEX', 'FIQ', 'DX_GROUP', 'lh_MeanThickness',\n",
              "       'rh_MeanThickness', 'lhCortexVol', 'rhCortexVol',\n",
              "       'lhCerebralWhiteMatterVol', 'rhCerebralWhiteMatterVol', 'TotalGrayVol',\n",
              "       'ProvenanceSite'],\n",
              "      dtype='object')"
            ]
          },
          "metadata": {
            "tags": []
          },
          "execution_count": 159
        }
      ]
    },
    {
      "cell_type": "code",
      "metadata": {
        "id": "H0ATtKXFxA6Q",
        "colab_type": "code",
        "outputId": "0ffd8cac-24fd-4df9-a0fb-de4c65c5ab96",
        "colab": {
          "base_uri": "https://localhost:8080/",
          "height": 206
        }
      },
      "source": [
        "selected_feat = df.loc[:,'lh_MeanThickness':'rhCortexVol']\n",
        "selected_feat.head()"
      ],
      "execution_count": 160,
      "outputs": [
        {
          "output_type": "execute_result",
          "data": {
            "text/html": [
              "<div>\n",
              "<style scoped>\n",
              "    .dataframe tbody tr th:only-of-type {\n",
              "        vertical-align: middle;\n",
              "    }\n",
              "\n",
              "    .dataframe tbody tr th {\n",
              "        vertical-align: top;\n",
              "    }\n",
              "\n",
              "    .dataframe thead th {\n",
              "        text-align: right;\n",
              "    }\n",
              "</style>\n",
              "<table border=\"1\" class=\"dataframe\">\n",
              "  <thead>\n",
              "    <tr style=\"text-align: right;\">\n",
              "      <th></th>\n",
              "      <th>lh_MeanThickness</th>\n",
              "      <th>rh_MeanThickness</th>\n",
              "      <th>lhCortexVol</th>\n",
              "      <th>rhCortexVol</th>\n",
              "    </tr>\n",
              "  </thead>\n",
              "  <tbody>\n",
              "    <tr>\n",
              "      <th>0</th>\n",
              "      <td>2.52039</td>\n",
              "      <td>2.52379</td>\n",
              "      <td>258703.4443</td>\n",
              "      <td>262670.1207</td>\n",
              "    </tr>\n",
              "    <tr>\n",
              "      <th>1</th>\n",
              "      <td>2.55533</td>\n",
              "      <td>2.56998</td>\n",
              "      <td>321132.1284</td>\n",
              "      <td>317004.7945</td>\n",
              "    </tr>\n",
              "    <tr>\n",
              "      <th>2</th>\n",
              "      <td>2.64518</td>\n",
              "      <td>2.63160</td>\n",
              "      <td>266418.9917</td>\n",
              "      <td>266456.1701</td>\n",
              "    </tr>\n",
              "    <tr>\n",
              "      <th>3</th>\n",
              "      <td>2.70814</td>\n",
              "      <td>2.72762</td>\n",
              "      <td>307157.4469</td>\n",
              "      <td>310540.0389</td>\n",
              "    </tr>\n",
              "    <tr>\n",
              "      <th>4</th>\n",
              "      <td>2.59002</td>\n",
              "      <td>2.61012</td>\n",
              "      <td>263932.5269</td>\n",
              "      <td>269417.2519</td>\n",
              "    </tr>\n",
              "  </tbody>\n",
              "</table>\n",
              "</div>"
            ],
            "text/plain": [
              "   lh_MeanThickness  rh_MeanThickness  lhCortexVol  rhCortexVol\n",
              "0           2.52039           2.52379  258703.4443  262670.1207\n",
              "1           2.55533           2.56998  321132.1284  317004.7945\n",
              "2           2.64518           2.63160  266418.9917  266456.1701\n",
              "3           2.70814           2.72762  307157.4469  310540.0389\n",
              "4           2.59002           2.61012  263932.5269  269417.2519"
            ]
          },
          "metadata": {
            "tags": []
          },
          "execution_count": 160
        }
      ]
    },
    {
      "cell_type": "code",
      "metadata": {
        "id": "wEH3pkk7xcF9",
        "colab_type": "code",
        "outputId": "a53006b8-a59e-481e-ddb2-ce5270965f11",
        "colab": {
          "base_uri": "https://localhost:8080/",
          "height": 206
        }
      },
      "source": [
        "df.iloc[:,5:9].head()"
      ],
      "execution_count": 161,
      "outputs": [
        {
          "output_type": "execute_result",
          "data": {
            "text/html": [
              "<div>\n",
              "<style scoped>\n",
              "    .dataframe tbody tr th:only-of-type {\n",
              "        vertical-align: middle;\n",
              "    }\n",
              "\n",
              "    .dataframe tbody tr th {\n",
              "        vertical-align: top;\n",
              "    }\n",
              "\n",
              "    .dataframe thead th {\n",
              "        text-align: right;\n",
              "    }\n",
              "</style>\n",
              "<table border=\"1\" class=\"dataframe\">\n",
              "  <thead>\n",
              "    <tr style=\"text-align: right;\">\n",
              "      <th></th>\n",
              "      <th>lh_MeanThickness</th>\n",
              "      <th>rh_MeanThickness</th>\n",
              "      <th>lhCortexVol</th>\n",
              "      <th>rhCortexVol</th>\n",
              "    </tr>\n",
              "  </thead>\n",
              "  <tbody>\n",
              "    <tr>\n",
              "      <th>0</th>\n",
              "      <td>2.52039</td>\n",
              "      <td>2.52379</td>\n",
              "      <td>258703.4443</td>\n",
              "      <td>262670.1207</td>\n",
              "    </tr>\n",
              "    <tr>\n",
              "      <th>1</th>\n",
              "      <td>2.55533</td>\n",
              "      <td>2.56998</td>\n",
              "      <td>321132.1284</td>\n",
              "      <td>317004.7945</td>\n",
              "    </tr>\n",
              "    <tr>\n",
              "      <th>2</th>\n",
              "      <td>2.64518</td>\n",
              "      <td>2.63160</td>\n",
              "      <td>266418.9917</td>\n",
              "      <td>266456.1701</td>\n",
              "    </tr>\n",
              "    <tr>\n",
              "      <th>3</th>\n",
              "      <td>2.70814</td>\n",
              "      <td>2.72762</td>\n",
              "      <td>307157.4469</td>\n",
              "      <td>310540.0389</td>\n",
              "    </tr>\n",
              "    <tr>\n",
              "      <th>4</th>\n",
              "      <td>2.59002</td>\n",
              "      <td>2.61012</td>\n",
              "      <td>263932.5269</td>\n",
              "      <td>269417.2519</td>\n",
              "    </tr>\n",
              "  </tbody>\n",
              "</table>\n",
              "</div>"
            ],
            "text/plain": [
              "   lh_MeanThickness  rh_MeanThickness  lhCortexVol  rhCortexVol\n",
              "0           2.52039           2.52379  258703.4443  262670.1207\n",
              "1           2.55533           2.56998  321132.1284  317004.7945\n",
              "2           2.64518           2.63160  266418.9917  266456.1701\n",
              "3           2.70814           2.72762  307157.4469  310540.0389\n",
              "4           2.59002           2.61012  263932.5269  269417.2519"
            ]
          },
          "metadata": {
            "tags": []
          },
          "execution_count": 161
        }
      ]
    },
    {
      "cell_type": "markdown",
      "metadata": {
        "id": "MoVGldMD9J4k",
        "colab_type": "text"
      },
      "source": [
        "Let's see how our selection looks like!"
      ]
    },
    {
      "cell_type": "code",
      "metadata": {
        "id": "zRHbbj9qzdUu",
        "colab_type": "code",
        "outputId": "335f5950-ac20-48cd-fc6e-f79b82a65c5a",
        "colab": {
          "base_uri": "https://localhost:8080/",
          "height": 743
        }
      },
      "source": [
        "sns.pairplot(df.iloc[:,5:9])"
      ],
      "execution_count": 162,
      "outputs": [
        {
          "output_type": "execute_result",
          "data": {
            "text/plain": [
              "<seaborn.axisgrid.PairGrid at 0x7f9c9dab6668>"
            ]
          },
          "metadata": {
            "tags": []
          },
          "execution_count": 162
        },
        {
          "output_type": "display_data",
          "data": {
            "image/png": "[encoded data removed]",
            "text/plain": [
              "<Figure size 720x720 with 20 Axes>"
            ]
          },
          "metadata": {
            "tags": []
          }
        }
      ]
    },
    {
      "cell_type": "markdown",
      "metadata": {
        "id": "5x1Rco5P9VuZ",
        "colab_type": "text"
      },
      "source": [
        "# Finding the outliers"
      ]
    },
    {
      "cell_type": "code",
      "metadata": {
        "id": "6NWB8DN82eDr",
        "colab_type": "code",
        "colab": {}
      },
      "source": [
        "import scipy.stats"
      ],
      "execution_count": 0,
      "outputs": []
    },
    {
      "cell_type": "code",
      "metadata": {
        "id": "sXQdRjJladdE",
        "colab_type": "code",
        "colab": {
          "base_uri": "https://localhost:8080/",
          "height": 206
        },
        "outputId": "403a4aaf-27c1-4e87-8b34-7de319d239d9"
      },
      "source": [
        "data = df.iloc[:,5:11]\n",
        "data.head()"
      ],
      "execution_count": 164,
      "outputs": [
        {
          "output_type": "execute_result",
          "data": {
            "text/html": [
              "<div>\n",
              "<style scoped>\n",
              "    .dataframe tbody tr th:only-of-type {\n",
              "        vertical-align: middle;\n",
              "    }\n",
              "\n",
              "    .dataframe tbody tr th {\n",
              "        vertical-align: top;\n",
              "    }\n",
              "\n",
              "    .dataframe thead th {\n",
              "        text-align: right;\n",
              "    }\n",
              "</style>\n",
              "<table border=\"1\" class=\"dataframe\">\n",
              "  <thead>\n",
              "    <tr style=\"text-align: right;\">\n",
              "      <th></th>\n",
              "      <th>lh_MeanThickness</th>\n",
              "      <th>rh_MeanThickness</th>\n",
              "      <th>lhCortexVol</th>\n",
              "      <th>rhCortexVol</th>\n",
              "      <th>lhCerebralWhiteMatterVol</th>\n",
              "      <th>rhCerebralWhiteMatterVol</th>\n",
              "    </tr>\n",
              "  </thead>\n",
              "  <tbody>\n",
              "    <tr>\n",
              "      <th>0</th>\n",
              "      <td>2.52039</td>\n",
              "      <td>2.52379</td>\n",
              "      <td>258703.4443</td>\n",
              "      <td>262670.1207</td>\n",
              "      <td>262254.9768</td>\n",
              "      <td>265741.1295</td>\n",
              "    </tr>\n",
              "    <tr>\n",
              "      <th>1</th>\n",
              "      <td>2.55533</td>\n",
              "      <td>2.56998</td>\n",
              "      <td>321132.1284</td>\n",
              "      <td>317004.7945</td>\n",
              "      <td>304528.2513</td>\n",
              "      <td>301555.0187</td>\n",
              "    </tr>\n",
              "    <tr>\n",
              "      <th>2</th>\n",
              "      <td>2.64518</td>\n",
              "      <td>2.63160</td>\n",
              "      <td>266418.9917</td>\n",
              "      <td>266456.1701</td>\n",
              "      <td>271683.1723</td>\n",
              "      <td>266494.7088</td>\n",
              "    </tr>\n",
              "    <tr>\n",
              "      <th>3</th>\n",
              "      <td>2.70814</td>\n",
              "      <td>2.72762</td>\n",
              "      <td>307157.4469</td>\n",
              "      <td>310540.0389</td>\n",
              "      <td>258618.7918</td>\n",
              "      <td>255480.2694</td>\n",
              "    </tr>\n",
              "    <tr>\n",
              "      <th>4</th>\n",
              "      <td>2.59002</td>\n",
              "      <td>2.61012</td>\n",
              "      <td>263932.5269</td>\n",
              "      <td>269417.2519</td>\n",
              "      <td>242330.5838</td>\n",
              "      <td>232809.9268</td>\n",
              "    </tr>\n",
              "  </tbody>\n",
              "</table>\n",
              "</div>"
            ],
            "text/plain": [
              "   lh_MeanThickness  ...  rhCerebralWhiteMatterVol\n",
              "0           2.52039  ...               265741.1295\n",
              "1           2.55533  ...               301555.0187\n",
              "2           2.64518  ...               266494.7088\n",
              "3           2.70814  ...               255480.2694\n",
              "4           2.59002  ...               232809.9268\n",
              "\n",
              "[5 rows x 6 columns]"
            ]
          },
          "metadata": {
            "tags": []
          },
          "execution_count": 164
        }
      ]
    },
    {
      "cell_type": "markdown",
      "metadata": {
        "id": "8Z8QGSxhGUK_",
        "colab_type": "text"
      },
      "source": [
        "We consider the z-score as a factor to determine the presence of outliers.\n",
        "Z-score is defined as:\n",
        "\n",
        "$z(x) = \\frac{x - \\bar{x}}{\\sigma}$. \n",
        "\n",
        "Data with a z-score above 3 (beyond 3$\\sigma$) are outliers."
      ]
    },
    {
      "cell_type": "code",
      "metadata": {
        "id": "tL2hZIzFGMhX",
        "colab_type": "code",
        "colab": {
          "base_uri": "https://localhost:8080/",
          "height": 424
        },
        "outputId": "e921d8c3-bbcd-43a6-feb8-44f99f95fde8"
      },
      "source": [
        "data[(abs(scipy.stats.zscore(data)) < 3).all(axis=1)]"
      ],
      "execution_count": 165,
      "outputs": [
        {
          "output_type": "execute_result",
          "data": {
            "text/html": [
              "<div>\n",
              "<style scoped>\n",
              "    .dataframe tbody tr th:only-of-type {\n",
              "        vertical-align: middle;\n",
              "    }\n",
              "\n",
              "    .dataframe tbody tr th {\n",
              "        vertical-align: top;\n",
              "    }\n",
              "\n",
              "    .dataframe thead th {\n",
              "        text-align: right;\n",
              "    }\n",
              "</style>\n",
              "<table border=\"1\" class=\"dataframe\">\n",
              "  <thead>\n",
              "    <tr style=\"text-align: right;\">\n",
              "      <th></th>\n",
              "      <th>lh_MeanThickness</th>\n",
              "      <th>rh_MeanThickness</th>\n",
              "      <th>lhCortexVol</th>\n",
              "      <th>rhCortexVol</th>\n",
              "      <th>lhCerebralWhiteMatterVol</th>\n",
              "      <th>rhCerebralWhiteMatterVol</th>\n",
              "    </tr>\n",
              "  </thead>\n",
              "  <tbody>\n",
              "    <tr>\n",
              "      <th>0</th>\n",
              "      <td>2.52039</td>\n",
              "      <td>2.52379</td>\n",
              "      <td>258703.4443</td>\n",
              "      <td>262670.1207</td>\n",
              "      <td>262254.9768</td>\n",
              "      <td>265741.1295</td>\n",
              "    </tr>\n",
              "    <tr>\n",
              "      <th>1</th>\n",
              "      <td>2.55533</td>\n",
              "      <td>2.56998</td>\n",
              "      <td>321132.1284</td>\n",
              "      <td>317004.7945</td>\n",
              "      <td>304528.2513</td>\n",
              "      <td>301555.0187</td>\n",
              "    </tr>\n",
              "    <tr>\n",
              "      <th>2</th>\n",
              "      <td>2.64518</td>\n",
              "      <td>2.63160</td>\n",
              "      <td>266418.9917</td>\n",
              "      <td>266456.1701</td>\n",
              "      <td>271683.1723</td>\n",
              "      <td>266494.7088</td>\n",
              "    </tr>\n",
              "    <tr>\n",
              "      <th>3</th>\n",
              "      <td>2.70814</td>\n",
              "      <td>2.72762</td>\n",
              "      <td>307157.4469</td>\n",
              "      <td>310540.0389</td>\n",
              "      <td>258618.7918</td>\n",
              "      <td>255480.2694</td>\n",
              "    </tr>\n",
              "    <tr>\n",
              "      <th>4</th>\n",
              "      <td>2.59002</td>\n",
              "      <td>2.61012</td>\n",
              "      <td>263932.5269</td>\n",
              "      <td>269417.2519</td>\n",
              "      <td>242330.5838</td>\n",
              "      <td>232809.9268</td>\n",
              "    </tr>\n",
              "    <tr>\n",
              "      <th>...</th>\n",
              "      <td>...</td>\n",
              "      <td>...</td>\n",
              "      <td>...</td>\n",
              "      <td>...</td>\n",
              "      <td>...</td>\n",
              "      <td>...</td>\n",
              "    </tr>\n",
              "    <tr>\n",
              "      <th>910</th>\n",
              "      <td>2.36238</td>\n",
              "      <td>2.38152</td>\n",
              "      <td>192826.5499</td>\n",
              "      <td>195519.7899</td>\n",
              "      <td>181671.5502</td>\n",
              "      <td>178748.1592</td>\n",
              "    </tr>\n",
              "    <tr>\n",
              "      <th>911</th>\n",
              "      <td>2.50005</td>\n",
              "      <td>2.52849</td>\n",
              "      <td>252293.1567</td>\n",
              "      <td>257263.1314</td>\n",
              "      <td>210779.7950</td>\n",
              "      <td>210714.3714</td>\n",
              "    </tr>\n",
              "    <tr>\n",
              "      <th>912</th>\n",
              "      <td>2.70636</td>\n",
              "      <td>2.72184</td>\n",
              "      <td>264309.1936</td>\n",
              "      <td>268447.9865</td>\n",
              "      <td>186742.5963</td>\n",
              "      <td>189804.7237</td>\n",
              "    </tr>\n",
              "    <tr>\n",
              "      <th>913</th>\n",
              "      <td>2.52114</td>\n",
              "      <td>2.54823</td>\n",
              "      <td>296770.5313</td>\n",
              "      <td>309780.9732</td>\n",
              "      <td>255228.1165</td>\n",
              "      <td>260365.0738</td>\n",
              "    </tr>\n",
              "    <tr>\n",
              "      <th>914</th>\n",
              "      <td>2.43238</td>\n",
              "      <td>2.50265</td>\n",
              "      <td>227194.7780</td>\n",
              "      <td>238810.8206</td>\n",
              "      <td>219704.4479</td>\n",
              "      <td>221946.7201</td>\n",
              "    </tr>\n",
              "  </tbody>\n",
              "</table>\n",
              "<p>893 rows × 6 columns</p>\n",
              "</div>"
            ],
            "text/plain": [
              "     lh_MeanThickness  ...  rhCerebralWhiteMatterVol\n",
              "0             2.52039  ...               265741.1295\n",
              "1             2.55533  ...               301555.0187\n",
              "2             2.64518  ...               266494.7088\n",
              "3             2.70814  ...               255480.2694\n",
              "4             2.59002  ...               232809.9268\n",
              "..                ...  ...                       ...\n",
              "910           2.36238  ...               178748.1592\n",
              "911           2.50005  ...               210714.3714\n",
              "912           2.70636  ...               189804.7237\n",
              "913           2.52114  ...               260365.0738\n",
              "914           2.43238  ...               221946.7201\n",
              "\n",
              "[893 rows x 6 columns]"
            ]
          },
          "metadata": {
            "tags": []
          },
          "execution_count": 165
        }
      ]
    },
    {
      "cell_type": "markdown",
      "metadata": {
        "id": "X3cS9r82-MvM",
        "colab_type": "text"
      },
      "source": [
        "## TTest"
      ]
    },
    {
      "cell_type": "markdown",
      "metadata": {
        "id": "iOsOjdzNbLoU",
        "colab_type": "text"
      },
      "source": [
        "Is there any significant difference in the AGE_AT_SCAN and FIQ features between the two diagnostic categories?"
      ]
    },
    {
      "cell_type": "code",
      "metadata": {
        "id": "T4pZhe9_4-_f",
        "colab_type": "code",
        "colab": {}
      },
      "source": [
        "df_ASD = df[df.DX_GROUP == 'ASD']\n",
        "df_CTR = df[df.DX_GROUP == 'Controls']"
      ],
      "execution_count": 0,
      "outputs": []
    },
    {
      "cell_type": "code",
      "metadata": {
        "id": "a1BJ1Xi7-ISb",
        "colab_type": "code",
        "colab": {
          "base_uri": "https://localhost:8080/",
          "height": 35
        },
        "outputId": "597230e8-5406-4260-9f6c-ada947e20596"
      },
      "source": [
        "ttest_res = scipy.stats.ttest_ind(df_ASD.AGE_AT_SCAN, df_CTR.AGE_AT_SCAN)\n",
        "ttest_res"
      ],
      "execution_count": 167,
      "outputs": [
        {
          "output_type": "execute_result",
          "data": {
            "text/plain": [
              "Ttest_indResult(statistic=-0.17065782953105668, pvalue=0.8645306344621716)"
            ]
          },
          "metadata": {
            "tags": []
          },
          "execution_count": 167
        }
      ]
    },
    {
      "cell_type": "code",
      "metadata": {
        "id": "NXUp4epp_ndn",
        "colab_type": "code",
        "colab": {
          "base_uri": "https://localhost:8080/",
          "height": 35
        },
        "outputId": "585f1336-a1c9-4cfe-8b1f-88851bd5be12"
      },
      "source": [
        "ttest_res = scipy.stats.ttest_ind(df_ASD.FIQ, df_CTR.FIQ)\n",
        "ttest_res"
      ],
      "execution_count": 168,
      "outputs": [
        {
          "output_type": "execute_result",
          "data": {
            "text/plain": [
              "Ttest_indResult(statistic=-0.12404932406284155, pvalue=0.9013035261691134)"
            ]
          },
          "metadata": {
            "tags": []
          },
          "execution_count": 168
        }
      ]
    },
    {
      "cell_type": "markdown",
      "metadata": {
        "id": "6e5uznlObyHj",
        "colab_type": "text"
      },
      "source": [
        "Let's try with a new index of left-right asimmetry in mean thickness"
      ]
    },
    {
      "cell_type": "code",
      "metadata": {
        "id": "U7rDzZo2BDvL",
        "colab_type": "code",
        "colab": {}
      },
      "source": [
        "def LR(data):\n",
        "  LR = data.lh_MeanThickness-data.rh_MeanThickness\n",
        "  LR /= 0.5*(data.rh_MeanThickness+data.lh_MeanThickness)\n",
        "  data['LR'] = LR\n",
        "  return data"
      ],
      "execution_count": 0,
      "outputs": []
    },
    {
      "cell_type": "code",
      "metadata": {
        "id": "-xoRG8dbBjXa",
        "colab_type": "code",
        "colab": {
          "base_uri": "https://localhost:8080/",
          "height": 206
        },
        "outputId": "db70b656-dffc-4aca-ed06-d42b8424c411"
      },
      "source": [
        "data = LR(df)\n",
        "data.head()"
      ],
      "execution_count": 170,
      "outputs": [
        {
          "output_type": "execute_result",
          "data": {
            "text/html": [
              "<div>\n",
              "<style scoped>\n",
              "    .dataframe tbody tr th:only-of-type {\n",
              "        vertical-align: middle;\n",
              "    }\n",
              "\n",
              "    .dataframe tbody tr th {\n",
              "        vertical-align: top;\n",
              "    }\n",
              "\n",
              "    .dataframe thead th {\n",
              "        text-align: right;\n",
              "    }\n",
              "</style>\n",
              "<table border=\"1\" class=\"dataframe\">\n",
              "  <thead>\n",
              "    <tr style=\"text-align: right;\">\n",
              "      <th></th>\n",
              "      <th>FILE_ID</th>\n",
              "      <th>AGE_AT_SCAN</th>\n",
              "      <th>SEX</th>\n",
              "      <th>FIQ</th>\n",
              "      <th>DX_GROUP</th>\n",
              "      <th>lh_MeanThickness</th>\n",
              "      <th>rh_MeanThickness</th>\n",
              "      <th>lhCortexVol</th>\n",
              "      <th>rhCortexVol</th>\n",
              "      <th>lhCerebralWhiteMatterVol</th>\n",
              "      <th>rhCerebralWhiteMatterVol</th>\n",
              "      <th>TotalGrayVol</th>\n",
              "      <th>ProvenanceSite</th>\n",
              "      <th>LR</th>\n",
              "    </tr>\n",
              "  </thead>\n",
              "  <tbody>\n",
              "    <tr>\n",
              "      <th>0</th>\n",
              "      <td>Caltech_0051456</td>\n",
              "      <td>55.4</td>\n",
              "      <td>1</td>\n",
              "      <td>126.0</td>\n",
              "      <td>ASD</td>\n",
              "      <td>2.52039</td>\n",
              "      <td>2.52379</td>\n",
              "      <td>258703.4443</td>\n",
              "      <td>262670.1207</td>\n",
              "      <td>262254.9768</td>\n",
              "      <td>265741.1295</td>\n",
              "      <td>701211.5651</td>\n",
              "      <td>Caltech</td>\n",
              "      <td>-0.001348</td>\n",
              "    </tr>\n",
              "    <tr>\n",
              "      <th>1</th>\n",
              "      <td>Caltech_0051457</td>\n",
              "      <td>22.9</td>\n",
              "      <td>1</td>\n",
              "      <td>107.0</td>\n",
              "      <td>ASD</td>\n",
              "      <td>2.55533</td>\n",
              "      <td>2.56998</td>\n",
              "      <td>321132.1284</td>\n",
              "      <td>317004.7945</td>\n",
              "      <td>304528.2513</td>\n",
              "      <td>301555.0187</td>\n",
              "      <td>841485.9229</td>\n",
              "      <td>Caltech</td>\n",
              "      <td>-0.005717</td>\n",
              "    </tr>\n",
              "    <tr>\n",
              "      <th>2</th>\n",
              "      <td>Caltech_0051458</td>\n",
              "      <td>39.2</td>\n",
              "      <td>1</td>\n",
              "      <td>93.0</td>\n",
              "      <td>ASD</td>\n",
              "      <td>2.64518</td>\n",
              "      <td>2.63160</td>\n",
              "      <td>266418.9917</td>\n",
              "      <td>266456.1701</td>\n",
              "      <td>271683.1723</td>\n",
              "      <td>266494.7088</td>\n",
              "      <td>726728.1619</td>\n",
              "      <td>Caltech</td>\n",
              "      <td>0.005147</td>\n",
              "    </tr>\n",
              "    <tr>\n",
              "      <th>3</th>\n",
              "      <td>Caltech_0051459</td>\n",
              "      <td>22.8</td>\n",
              "      <td>1</td>\n",
              "      <td>106.0</td>\n",
              "      <td>ASD</td>\n",
              "      <td>2.70814</td>\n",
              "      <td>2.72762</td>\n",
              "      <td>307157.4469</td>\n",
              "      <td>310540.0389</td>\n",
              "      <td>258618.7918</td>\n",
              "      <td>255480.2694</td>\n",
              "      <td>794676.4859</td>\n",
              "      <td>Caltech</td>\n",
              "      <td>-0.007167</td>\n",
              "    </tr>\n",
              "    <tr>\n",
              "      <th>4</th>\n",
              "      <td>Caltech_0051461</td>\n",
              "      <td>37.7</td>\n",
              "      <td>1</td>\n",
              "      <td>99.0</td>\n",
              "      <td>ASD</td>\n",
              "      <td>2.59002</td>\n",
              "      <td>2.61012</td>\n",
              "      <td>263932.5269</td>\n",
              "      <td>269417.2519</td>\n",
              "      <td>242330.5838</td>\n",
              "      <td>232809.9268</td>\n",
              "      <td>714122.7788</td>\n",
              "      <td>Caltech</td>\n",
              "      <td>-0.007731</td>\n",
              "    </tr>\n",
              "  </tbody>\n",
              "</table>\n",
              "</div>"
            ],
            "text/plain": [
              "           FILE_ID  AGE_AT_SCAN  SEX  ...  TotalGrayVol ProvenanceSite        LR\n",
              "0  Caltech_0051456         55.4    1  ...   701211.5651        Caltech -0.001348\n",
              "1  Caltech_0051457         22.9    1  ...   841485.9229        Caltech -0.005717\n",
              "2  Caltech_0051458         39.2    1  ...   726728.1619        Caltech  0.005147\n",
              "3  Caltech_0051459         22.8    1  ...   794676.4859        Caltech -0.007167\n",
              "4  Caltech_0051461         37.7    1  ...   714122.7788        Caltech -0.007731\n",
              "\n",
              "[5 rows x 14 columns]"
            ]
          },
          "metadata": {
            "tags": []
          },
          "execution_count": 170
        }
      ]
    },
    {
      "cell_type": "code",
      "metadata": {
        "id": "BLFHJ5y6DmYv",
        "colab_type": "code",
        "colab": {
          "base_uri": "https://localhost:8080/",
          "height": 280
        },
        "outputId": "0c50181f-23f9-44a5-b3dc-f3accd1db86b"
      },
      "source": [
        "color = data.DX_GROUP.apply(lambda x:'blue' if x == 'ASD' else 'red')\n",
        "ax = data.plot(x='AGE_AT_SCAN', y='LR', kind='scatter', color=color);\n",
        "#ax.grid()"
      ],
      "execution_count": 171,
      "outputs": [
        {
          "output_type": "display_data",
          "data": {
            "image/png": "[encoded data removed]",
            "text/plain": [
              "<Figure size 432x288 with 1 Axes>"
            ]
          },
          "metadata": {
            "tags": []
          }
        }
      ]
    },
    {
      "cell_type": "code",
      "metadata": {
        "id": "Nuu4TNLgEu6C",
        "colab_type": "code",
        "colab": {
          "base_uri": "https://localhost:8080/",
          "height": 35
        },
        "outputId": "800144b9-9750-4fea-b90e-b76f63453a42"
      },
      "source": [
        "data.DX_GROUP.unique()"
      ],
      "execution_count": 172,
      "outputs": [
        {
          "output_type": "execute_result",
          "data": {
            "text/plain": [
              "array(['ASD', 'Controls'], dtype=object)"
            ]
          },
          "metadata": {
            "tags": []
          },
          "execution_count": 172
        }
      ]
    },
    {
      "cell_type": "code",
      "metadata": {
        "id": "0VWWQr8JDHMd",
        "colab_type": "code",
        "colab": {}
      },
      "source": [
        "LR_ASD = data[data['DX_GROUP'] == 'ASD']['LR']\n",
        "LR_CTR = data[data['DX_GROUP'] == 'Controls']['LR']"
      ],
      "execution_count": 0,
      "outputs": []
    },
    {
      "cell_type": "code",
      "metadata": {
        "id": "PBUEeek7EW_n",
        "colab_type": "code",
        "colab": {
          "base_uri": "https://localhost:8080/",
          "height": 35
        },
        "outputId": "677730b6-2463-43c1-a523-8ba58d0438ee"
      },
      "source": [
        "scipy.stats.ttest_ind(LR_ASD, LR_CTR)"
      ],
      "execution_count": 174,
      "outputs": [
        {
          "output_type": "execute_result",
          "data": {
            "text/plain": [
              "Ttest_indResult(statistic=3.3372407440248693, pvalue=0.0008803236500893867)"
            ]
          },
          "metadata": {
            "tags": []
          },
          "execution_count": 174
        }
      ]
    },
    {
      "cell_type": "code",
      "metadata": {
        "id": "T3ns9qfoE4Lo",
        "colab_type": "code",
        "colab": {
          "base_uri": "https://localhost:8080/",
          "height": 295
        },
        "outputId": "1c57f39f-f00d-4a26-bc40-90257d9ff5a8"
      },
      "source": [
        "boxplot = df.boxplot(column=['LR'], by='DX_GROUP', showfliers=False)\n",
        "boxplot.set_title('Box plot of subject\\'s LR asimmetry index')\n",
        "boxplot.get_figure().suptitle('');\n",
        "boxplot.set_ylabel('LR')\n",
        "\n",
        "boxplot.set_xticklabels(labels=boxplot.get_xticklabels());"
      ],
      "execution_count": 175,
      "outputs": [
        {
          "output_type": "display_data",
          "data": {
            "image/png": "[encoded data removed]",
            "text/plain": [
              "<Figure size 432x288 with 1 Axes>"
            ]
          },
          "metadata": {
            "tags": []
          }
        }
      ]
    },
    {
      "cell_type": "markdown",
      "metadata": {
        "id": "QpcpjJfWdLDT",
        "colab_type": "text"
      },
      "source": [
        "We can compute the effect size in terms od Cohen's d index"
      ]
    },
    {
      "cell_type": "code",
      "metadata": {
        "id": "tpBMROA4FkLf",
        "colab_type": "code",
        "colab": {
          "base_uri": "https://localhost:8080/",
          "height": 35
        },
        "outputId": "fa8df9da-42b4-4249-9588-087ea2e644f3"
      },
      "source": [
        "d_cohen = (LR_ASD.mean()-LR_CTR.mean())/data['LR'].std()\n",
        "d_cohen"
      ],
      "execution_count": 176,
      "outputs": [
        {
          "output_type": "execute_result",
          "data": {
            "text/plain": [
              "0.2194601644424404"
            ]
          },
          "metadata": {
            "tags": []
          },
          "execution_count": 176
        }
      ]
    },
    {
      "cell_type": "markdown",
      "metadata": {
        "id": "2O4TzJSqeJkj",
        "colab_type": "text"
      },
      "source": [
        "# Find the correlation"
      ]
    },
    {
      "cell_type": "code",
      "metadata": {
        "id": "W0_ac8hkGEAK",
        "colab_type": "code",
        "colab": {
          "base_uri": "https://localhost:8080/",
          "height": 363
        },
        "outputId": "2195b1f1-dc06-45c9-988a-2378a3bda851"
      },
      "source": [
        "data.drop('SEX', axis=1).corr()"
      ],
      "execution_count": 177,
      "outputs": [
        {
          "output_type": "execute_result",
          "data": {
            "text/html": [
              "<div>\n",
              "<style scoped>\n",
              "    .dataframe tbody tr th:only-of-type {\n",
              "        vertical-align: middle;\n",
              "    }\n",
              "\n",
              "    .dataframe tbody tr th {\n",
              "        vertical-align: top;\n",
              "    }\n",
              "\n",
              "    .dataframe thead th {\n",
              "        text-align: right;\n",
              "    }\n",
              "</style>\n",
              "<table border=\"1\" class=\"dataframe\">\n",
              "  <thead>\n",
              "    <tr style=\"text-align: right;\">\n",
              "      <th></th>\n",
              "      <th>AGE_AT_SCAN</th>\n",
              "      <th>FIQ</th>\n",
              "      <th>lh_MeanThickness</th>\n",
              "      <th>rh_MeanThickness</th>\n",
              "      <th>lhCortexVol</th>\n",
              "      <th>rhCortexVol</th>\n",
              "      <th>lhCerebralWhiteMatterVol</th>\n",
              "      <th>rhCerebralWhiteMatterVol</th>\n",
              "      <th>TotalGrayVol</th>\n",
              "      <th>LR</th>\n",
              "    </tr>\n",
              "  </thead>\n",
              "  <tbody>\n",
              "    <tr>\n",
              "      <th>AGE_AT_SCAN</th>\n",
              "      <td>1.000000</td>\n",
              "      <td>-0.302034</td>\n",
              "      <td>-0.582304</td>\n",
              "      <td>-0.586038</td>\n",
              "      <td>-0.262530</td>\n",
              "      <td>-0.250016</td>\n",
              "      <td>0.438887</td>\n",
              "      <td>0.430706</td>\n",
              "      <td>-0.212807</td>\n",
              "      <td>-0.039969</td>\n",
              "    </tr>\n",
              "    <tr>\n",
              "      <th>FIQ</th>\n",
              "      <td>-0.302034</td>\n",
              "      <td>1.000000</td>\n",
              "      <td>0.365001</td>\n",
              "      <td>0.348166</td>\n",
              "      <td>0.062747</td>\n",
              "      <td>0.049527</td>\n",
              "      <td>-0.227115</td>\n",
              "      <td>-0.210528</td>\n",
              "      <td>0.037634</td>\n",
              "      <td>0.096843</td>\n",
              "    </tr>\n",
              "    <tr>\n",
              "      <th>lh_MeanThickness</th>\n",
              "      <td>-0.582304</td>\n",
              "      <td>0.365001</td>\n",
              "      <td>1.000000</td>\n",
              "      <td>0.955238</td>\n",
              "      <td>0.529479</td>\n",
              "      <td>0.493574</td>\n",
              "      <td>-0.278798</td>\n",
              "      <td>-0.281760</td>\n",
              "      <td>0.467387</td>\n",
              "      <td>0.232968</td>\n",
              "    </tr>\n",
              "    <tr>\n",
              "      <th>rh_MeanThickness</th>\n",
              "      <td>-0.586038</td>\n",
              "      <td>0.348166</td>\n",
              "      <td>0.955238</td>\n",
              "      <td>1.000000</td>\n",
              "      <td>0.509903</td>\n",
              "      <td>0.508397</td>\n",
              "      <td>-0.288463</td>\n",
              "      <td>-0.287313</td>\n",
              "      <td>0.464578</td>\n",
              "      <td>-0.064748</td>\n",
              "    </tr>\n",
              "    <tr>\n",
              "      <th>lhCortexVol</th>\n",
              "      <td>-0.262530</td>\n",
              "      <td>0.062747</td>\n",
              "      <td>0.529479</td>\n",
              "      <td>0.509903</td>\n",
              "      <td>1.000000</td>\n",
              "      <td>0.981343</td>\n",
              "      <td>0.470413</td>\n",
              "      <td>0.466139</td>\n",
              "      <td>0.974726</td>\n",
              "      <td>0.107532</td>\n",
              "    </tr>\n",
              "    <tr>\n",
              "      <th>rhCortexVol</th>\n",
              "      <td>-0.250016</td>\n",
              "      <td>0.049527</td>\n",
              "      <td>0.493574</td>\n",
              "      <td>0.508397</td>\n",
              "      <td>0.981343</td>\n",
              "      <td>1.000000</td>\n",
              "      <td>0.470385</td>\n",
              "      <td>0.481971</td>\n",
              "      <td>0.974743</td>\n",
              "      <td>-0.007945</td>\n",
              "    </tr>\n",
              "    <tr>\n",
              "      <th>lhCerebralWhiteMatterVol</th>\n",
              "      <td>0.438887</td>\n",
              "      <td>-0.227115</td>\n",
              "      <td>-0.278798</td>\n",
              "      <td>-0.288463</td>\n",
              "      <td>0.470413</td>\n",
              "      <td>0.470385</td>\n",
              "      <td>1.000000</td>\n",
              "      <td>0.992170</td>\n",
              "      <td>0.524847</td>\n",
              "      <td>0.005129</td>\n",
              "    </tr>\n",
              "    <tr>\n",
              "      <th>rhCerebralWhiteMatterVol</th>\n",
              "      <td>0.430706</td>\n",
              "      <td>-0.210528</td>\n",
              "      <td>-0.281760</td>\n",
              "      <td>-0.287313</td>\n",
              "      <td>0.466139</td>\n",
              "      <td>0.481971</td>\n",
              "      <td>0.992170</td>\n",
              "      <td>1.000000</td>\n",
              "      <td>0.527529</td>\n",
              "      <td>-0.007727</td>\n",
              "    </tr>\n",
              "    <tr>\n",
              "      <th>TotalGrayVol</th>\n",
              "      <td>-0.212807</td>\n",
              "      <td>0.037634</td>\n",
              "      <td>0.467387</td>\n",
              "      <td>0.464578</td>\n",
              "      <td>0.974726</td>\n",
              "      <td>0.974743</td>\n",
              "      <td>0.524847</td>\n",
              "      <td>0.527529</td>\n",
              "      <td>1.000000</td>\n",
              "      <td>0.047787</td>\n",
              "    </tr>\n",
              "    <tr>\n",
              "      <th>LR</th>\n",
              "      <td>-0.039969</td>\n",
              "      <td>0.096843</td>\n",
              "      <td>0.232968</td>\n",
              "      <td>-0.064748</td>\n",
              "      <td>0.107532</td>\n",
              "      <td>-0.007945</td>\n",
              "      <td>0.005129</td>\n",
              "      <td>-0.007727</td>\n",
              "      <td>0.047787</td>\n",
              "      <td>1.000000</td>\n",
              "    </tr>\n",
              "  </tbody>\n",
              "</table>\n",
              "</div>"
            ],
            "text/plain": [
              "                          AGE_AT_SCAN       FIQ  ...  TotalGrayVol        LR\n",
              "AGE_AT_SCAN                  1.000000 -0.302034  ...     -0.212807 -0.039969\n",
              "FIQ                         -0.302034  1.000000  ...      0.037634  0.096843\n",
              "lh_MeanThickness            -0.582304  0.365001  ...      0.467387  0.232968\n",
              "rh_MeanThickness            -0.586038  0.348166  ...      0.464578 -0.064748\n",
              "lhCortexVol                 -0.262530  0.062747  ...      0.974726  0.107532\n",
              "rhCortexVol                 -0.250016  0.049527  ...      0.974743 -0.007945\n",
              "lhCerebralWhiteMatterVol     0.438887 -0.227115  ...      0.524847  0.005129\n",
              "rhCerebralWhiteMatterVol     0.430706 -0.210528  ...      0.527529 -0.007727\n",
              "TotalGrayVol                -0.212807  0.037634  ...      1.000000  0.047787\n",
              "LR                          -0.039969  0.096843  ...      0.047787  1.000000\n",
              "\n",
              "[10 rows x 10 columns]"
            ]
          },
          "metadata": {
            "tags": []
          },
          "execution_count": 177
        }
      ]
    },
    {
      "cell_type": "code",
      "metadata": {
        "id": "jkl6MegNGiFO",
        "colab_type": "code",
        "colab": {
          "base_uri": "https://localhost:8080/",
          "height": 386
        },
        "outputId": "f54531c0-a182-4473-d6c4-4c55a7c5f50a"
      },
      "source": [
        "sns.heatmap(data.drop('SEX', axis=1).corr());"
      ],
      "execution_count": 178,
      "outputs": [
        {
          "output_type": "display_data",
          "data": {
            "image/png": "[encoded data removed]",
            "text/plain": [
              "<Figure size 432x288 with 2 Axes>"
            ]
          },
          "metadata": {
            "tags": []
          }
        }
      ]
    },
    {
      "cell_type": "code",
      "metadata": {
        "id": "-CN4maFsGpa3",
        "colab_type": "code",
        "colab": {
          "base_uri": "https://localhost:8080/",
          "height": 35
        },
        "outputId": "2da783db-d351-4455-b459-be0434f3832e"
      },
      "source": [
        "res = scipy.stats.pearsonr(data['rhCortexVol'], data['LR'])\n",
        "res"
      ],
      "execution_count": 179,
      "outputs": [
        {
          "output_type": "execute_result",
          "data": {
            "text/plain": [
              "(-0.007944648727167424, 0.8103359197685401)"
            ]
          },
          "metadata": {
            "tags": []
          },
          "execution_count": 179
        }
      ]
    },
    {
      "cell_type": "markdown",
      "metadata": {
        "id": "ZAll1zh8PD3U",
        "colab_type": "text"
      },
      "source": [
        "# Regression model"
      ]
    },
    {
      "cell_type": "code",
      "metadata": {
        "id": "fX5eJ_zXPFJ_",
        "colab_type": "code",
        "colab": {}
      },
      "source": [
        "import sklearn\n",
        "from sklearn.linear_model import LinearRegression"
      ],
      "execution_count": 0,
      "outputs": []
    },
    {
      "cell_type": "code",
      "metadata": {
        "id": "H9aWgJoaPe-q",
        "colab_type": "code",
        "colab": {}
      },
      "source": [
        "lin_reg = LinearRegression()"
      ],
      "execution_count": 0,
      "outputs": []
    },
    {
      "cell_type": "code",
      "metadata": {
        "id": "0T8QXv8DPgbe",
        "colab_type": "code",
        "colab": {
          "base_uri": "https://localhost:8080/",
          "height": 35
        },
        "outputId": "4d486c3e-0747-4c9a-c7c7-40cf438aa059"
      },
      "source": [
        "lin_reg"
      ],
      "execution_count": 182,
      "outputs": [
        {
          "output_type": "execute_result",
          "data": {
            "text/plain": [
              "LinearRegression(copy_X=True, fit_intercept=True, n_jobs=None, normalize=False)"
            ]
          },
          "metadata": {
            "tags": []
          },
          "execution_count": 182
        }
      ]
    },
    {
      "cell_type": "code",
      "metadata": {
        "id": "n4QYeGzbPn8a",
        "colab_type": "code",
        "colab": {}
      },
      "source": [
        "X_feat = pd.DataFrame(data=data, columns=['lh_MeanThickness', 'rh_MeanThickness'])\n",
        "Y_ = data.AGE_AT_SCAN"
      ],
      "execution_count": 0,
      "outputs": []
    },
    {
      "cell_type": "code",
      "metadata": {
        "id": "RugcQglUPtmI",
        "colab_type": "code",
        "colab": {}
      },
      "source": [
        "model = lin_reg.fit(X_feat, Y_)"
      ],
      "execution_count": 0,
      "outputs": []
    },
    {
      "cell_type": "code",
      "metadata": {
        "id": "3QhQZo7Zlu7c",
        "colab_type": "code",
        "colab": {
          "base_uri": "https://localhost:8080/",
          "height": 35
        },
        "outputId": "4c4f1fd8-b747-4609-b39b-cf252857d4bb"
      },
      "source": [
        "print(model)"
      ],
      "execution_count": 185,
      "outputs": [
        {
          "output_type": "stream",
          "text": [
            "LinearRegression(copy_X=True, fit_intercept=True, n_jobs=None, normalize=False)\n"
          ],
          "name": "stdout"
        }
      ]
    },
    {
      "cell_type": "code",
      "metadata": {
        "id": "8mbQ1XWhl4E1",
        "colab_type": "code",
        "colab": {
          "base_uri": "https://localhost:8080/",
          "height": 256
        },
        "outputId": "768b94a4-2609-4a09-ff4b-c641a1b02d8a"
      },
      "source": [
        "[x for x  in dir(model) if not x.startswith('_')]"
      ],
      "execution_count": 186,
      "outputs": [
        {
          "output_type": "execute_result",
          "data": {
            "text/plain": [
              "['coef_',\n",
              " 'copy_X',\n",
              " 'fit',\n",
              " 'fit_intercept',\n",
              " 'get_params',\n",
              " 'intercept_',\n",
              " 'n_jobs',\n",
              " 'normalize',\n",
              " 'predict',\n",
              " 'rank_',\n",
              " 'score',\n",
              " 'set_params',\n",
              " 'singular_']"
            ]
          },
          "metadata": {
            "tags": []
          },
          "execution_count": 186
        }
      ]
    },
    {
      "cell_type": "code",
      "metadata": {
        "id": "GA9hb-nlmCBh",
        "colab_type": "code",
        "colab": {
          "base_uri": "https://localhost:8080/",
          "height": 35
        },
        "outputId": "4dbbd335-96f7-4a67-a417-4ecbeccb7554"
      },
      "source": [
        "model.score(X_feat, Y_)"
      ],
      "execution_count": 187,
      "outputs": [
        {
          "output_type": "execute_result",
          "data": {
            "text/plain": [
              "0.34922411882894755"
            ]
          },
          "metadata": {
            "tags": []
          },
          "execution_count": 187
        }
      ]
    }
  ]
}
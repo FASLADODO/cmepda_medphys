{
  "nbformat": 4,
  "nbformat_minor": 0,
  "metadata": {
    "colab": {
      "name": "Lecture8_pandas",
      "provenance": [],
      "include_colab_link": true
    },
    "kernelspec": {
      "name": "python3",
      "display_name": "Python 3"
    }
  },
  "cells": [
    {
      "cell_type": "markdown",
      "metadata": {
        "id": "view-in-github",
        "colab_type": "text"
      },
      "source": [
        "<a href=\"https://colab.research.google.com/github/retico/cmepda_medphys/blob/master/L8_code/Lecture8_pandas.ipynb\" target=\"_parent\"><img src=\"https://colab.research.google.com/assets/colab-badge.svg\" alt=\"Open In Colab\"/></a>"
      ]
    },
    {
      "cell_type": "markdown",
      "metadata": {
        "id": "FQoeOn2US4Mb",
        "colab_type": "text"
      },
      "source": [
        "# Data exploration and analysis in Pandas"
      ]
    },
    {
      "cell_type": "markdown",
      "metadata": {
        "id": "6Dl_N3ojAwPX",
        "colab_type": "text"
      },
      "source": [
        "We'll have a quick look at [pandas](https://pandas.pydata.org/), one of the most used python data analysis libraries, and at [seaborn](https://seaborn.pydata.org/), a high level API to matplotlib for statistical data visualization. Both the libraries are already installed on Colab. "
      ]
    },
    {
      "cell_type": "code",
      "metadata": {
        "id": "C-EPcFMQUIuu",
        "colab_type": "code",
        "colab": {}
      },
      "source": [
        "import pandas as pd\n",
        "import matplotlib.pyplot as plt\n",
        "import seaborn as sns"
      ],
      "execution_count": 0,
      "outputs": []
    },
    {
      "cell_type": "markdown",
      "metadata": {
        "id": "zGO70JoqS91d",
        "colab_type": "text"
      },
      "source": [
        "## Read the dataset\n"
      ]
    },
    {
      "cell_type": "markdown",
      "metadata": {
        "id": "k1Ok4AJeHGex",
        "colab_type": "text"
      },
      "source": [
        "A DataFrames is basically a container for and exposes lots of methods to process tabular data. Data series are stored, instead, in pandas Series.\n",
        "\n",
        "Pandas offers plenty of readers out of the box."
      ]
    },
    {
      "cell_type": "code",
      "metadata": {
        "id": "5XpHlrM4F4nv",
        "colab_type": "code",
        "colab": {}
      },
      "source": [
        "[x for x in dir(pd) if 'read' in x ]"
      ],
      "execution_count": 0,
      "outputs": []
    },
    {
      "cell_type": "markdown",
      "metadata": {
        "id": "mH6Zm6e-HiT5",
        "colab_type": "text"
      },
      "source": [
        "Let's read a csv file as a Pandas dataframe. \n"
      ]
    },
    {
      "cell_type": "code",
      "metadata": {
        "id": "NFzkcJXVY6Rb",
        "colab_type": "code",
        "colab": {}
      },
      "source": [
        "dataset_url = \"https://raw.githubusercontent.com/retico/cmepda_medphys/master/L8_code/FS_features_ABIDE_males_someGlobals.csv\""
      ],
      "execution_count": 0,
      "outputs": []
    },
    {
      "cell_type": "code",
      "metadata": {
        "id": "4Mkm2b86UKTs",
        "colab_type": "code",
        "colab": {}
      },
      "source": [
        "df = pd.read_csv(dataset_url)\n",
        "df.head()"
      ],
      "execution_count": 0,
      "outputs": []
    },
    {
      "cell_type": "code",
      "metadata": {
        "id": "TL-OtgTR6fv5",
        "colab_type": "code",
        "colab": {}
      },
      "source": [
        "print(type(df), type(df.FILE_ID))"
      ],
      "execution_count": 0,
      "outputs": []
    },
    {
      "cell_type": "code",
      "metadata": {
        "id": "l2k7p_pJUmgM",
        "colab_type": "code",
        "colab": {}
      },
      "source": [
        "df.columns"
      ],
      "execution_count": 0,
      "outputs": []
    },
    {
      "cell_type": "markdown",
      "metadata": {
        "id": "9DFaFTcHH0xS",
        "colab_type": "text"
      },
      "source": [
        "Since it is hard to remember what DX_GROUP=1 actually means, let's make this column more readable.\n",
        "\n",
        "Firt, we select the DX_GROUP column, then we apply a function to all its elements."
      ]
    },
    {
      "cell_type": "code",
      "metadata": {
        "id": "72_rTHZGiRqZ",
        "colab_type": "code",
        "colab": {}
      },
      "source": [
        "df['DX_GROUP'] = df.DX_GROUP.apply(lambda x: 'Controls' if x==-1 else 'ASD')\n",
        "df.head()"
      ],
      "execution_count": 0,
      "outputs": []
    },
    {
      "cell_type": "code",
      "metadata": {
        "id": "75IFndL3JhNv",
        "colab_type": "code",
        "colab": {}
      },
      "source": [
        "df.DX_GROUP.unique()"
      ],
      "execution_count": 0,
      "outputs": []
    },
    {
      "cell_type": "markdown",
      "metadata": {
        "id": "4LdXAUJAJd4F",
        "colab_type": "text"
      },
      "source": [
        "# Boxplots"
      ]
    },
    {
      "cell_type": "code",
      "metadata": {
        "id": "MsiGocGDhEBa",
        "colab_type": "code",
        "colab": {}
      },
      "source": [
        "boxplot = df.boxplot(column=['AGE_AT_SCAN'], by='DX_GROUP', showfliers=False)\n",
        "boxplot.set_title('Box plot of subject\\'s age')\n",
        "boxplot.get_figure().suptitle('');"
      ],
      "execution_count": 0,
      "outputs": []
    },
    {
      "cell_type": "markdown",
      "metadata": {
        "id": "dtZY2oeH3oq9",
        "colab_type": "text"
      },
      "source": [
        "The provenance site is part of the FILE_ID, we can extract and add it to a new column"
      ]
    },
    {
      "cell_type": "code",
      "metadata": {
        "id": "pJilqxqemnDv",
        "colab_type": "code",
        "colab": {}
      },
      "source": [
        "df['ProvenanceSite'] = df.FILE_ID.apply(lambda x: x.split('_')[0])"
      ],
      "execution_count": 0,
      "outputs": []
    },
    {
      "cell_type": "code",
      "metadata": {
        "colab_type": "code",
        "id": "NM2fc4OPmNkg",
        "colab": {}
      },
      "source": [
        "boxplot = df.boxplot(column=['AGE_AT_SCAN'], by='ProvenanceSite', showfliers=False)\n",
        "boxplot.set_title('Box plot of subject\\'s age')\n",
        "boxplot.get_figure().suptitle('');\n",
        "boxplot.set_ylabel('Age [y]')\n",
        "\n",
        "boxplot.set_xticklabels(labels=boxplot.get_xticklabels(), rotation=50);"
      ],
      "execution_count": 0,
      "outputs": []
    },
    {
      "cell_type": "markdown",
      "metadata": {
        "id": "Hy2ddwra4ZEK",
        "colab_type": "text"
      },
      "source": [
        "Seaborn interoperates well with pandas DataFrame and allows us to refer to columns by label"
      ]
    },
    {
      "cell_type": "code",
      "metadata": {
        "id": "zkl7JtSorLjT",
        "colab_type": "code",
        "colab": {}
      },
      "source": [
        "sns_boxplot = sns.boxplot(x='ProvenanceSite', y='AGE_AT_SCAN', data=df)\n",
        "sns_boxplot.set_xticklabels(labels=boxplot.get_xticklabels(), rotation=50);\n",
        "sns_boxplot.grid()"
      ],
      "execution_count": 0,
      "outputs": []
    },
    {
      "cell_type": "markdown",
      "metadata": {
        "id": "AeAXQ-M74-5a",
        "colab_type": "text"
      },
      "source": [
        "# Grouping"
      ]
    },
    {
      "cell_type": "markdown",
      "metadata": {
        "id": "PeGA7dgs5WMt",
        "colab_type": "text"
      },
      "source": [
        "Data can be grouped by feature and summarized according to a given accumulation function"
      ]
    },
    {
      "cell_type": "code",
      "metadata": {
        "id": "20KQwnjZVBUR",
        "colab_type": "code",
        "colab": {}
      },
      "source": [
        "df.groupby(by='AGE_AT_SCAN')"
      ],
      "execution_count": 0,
      "outputs": []
    },
    {
      "cell_type": "code",
      "metadata": {
        "id": "GNNQLXyz604L",
        "colab_type": "code",
        "colab": {}
      },
      "source": [
        "df.groupby(by='AGE_AT_SCAN')['FILE_ID']"
      ],
      "execution_count": 0,
      "outputs": []
    },
    {
      "cell_type": "code",
      "metadata": {
        "id": "TuuctXqOrbBB",
        "colab_type": "code",
        "colab": {}
      },
      "source": [
        "provenance_counts = df.groupby('ProvenanceSite')['FILE_ID'].count()\n",
        "provenance_counts"
      ],
      "execution_count": 0,
      "outputs": []
    },
    {
      "cell_type": "markdown",
      "metadata": {
        "id": "GWuZuHU67Ois",
        "colab_type": "text"
      },
      "source": [
        "It is quite easy to obtain a bar plot from a pandas Series"
      ]
    },
    {
      "cell_type": "code",
      "metadata": {
        "id": "VyiahQiDsmzI",
        "colab_type": "code",
        "colab": {}
      },
      "source": [
        "provenance_counts.plot(kind='bar')"
      ],
      "execution_count": 0,
      "outputs": []
    },
    {
      "cell_type": "markdown",
      "metadata": {
        "id": "ARmVSwjo7WpZ",
        "colab_type": "text"
      },
      "source": [
        "Now lets try to create a stacked bar plot showing the DX_GROUP"
      ]
    },
    {
      "cell_type": "code",
      "metadata": {
        "id": "hKPL857i70xp",
        "colab_type": "code",
        "colab": {}
      },
      "source": [
        "stack = df.groupby(['ProvenanceSite', 'DX_GROUP'])['FILE_ID'].count()\n",
        "stack"
      ],
      "execution_count": 0,
      "outputs": []
    },
    {
      "cell_type": "code",
      "metadata": {
        "colab_type": "code",
        "id": "G1V2dqIo7qVi",
        "colab": {}
      },
      "source": [
        "unstacked = stack.unstack('DX_GROUP')\n",
        "unstacked"
      ],
      "execution_count": 0,
      "outputs": []
    },
    {
      "cell_type": "code",
      "metadata": {
        "id": "tnfQJQw0ttXy",
        "colab_type": "code",
        "colab": {}
      },
      "source": [
        "unstacked.plot(kind='bar', stacked=True)"
      ],
      "execution_count": 0,
      "outputs": []
    },
    {
      "cell_type": "markdown",
      "metadata": {
        "id": "ZI7ekmM68vCR",
        "colab_type": "text"
      },
      "source": [
        "# Slicing"
      ]
    },
    {
      "cell_type": "markdown",
      "metadata": {
        "id": "HgZsVrLH8znc",
        "colab_type": "text"
      },
      "source": [
        "To select ranges of rows and/or columns it is possible to use labels or indices."
      ]
    },
    {
      "cell_type": "code",
      "metadata": {
        "id": "8cdkAC7vv4tW",
        "colab_type": "code",
        "colab": {}
      },
      "source": [
        "df.columns"
      ],
      "execution_count": 0,
      "outputs": []
    },
    {
      "cell_type": "code",
      "metadata": {
        "id": "H0ATtKXFxA6Q",
        "colab_type": "code",
        "colab": {}
      },
      "source": [
        "selected_feat = df.loc[:,'lh_MeanThickness':'rhCortexVol']\n",
        "selected_feat.head()"
      ],
      "execution_count": 0,
      "outputs": []
    },
    {
      "cell_type": "code",
      "metadata": {
        "id": "wEH3pkk7xcF9",
        "colab_type": "code",
        "colab": {}
      },
      "source": [
        "df.iloc[:,5:9].head()"
      ],
      "execution_count": 0,
      "outputs": []
    },
    {
      "cell_type": "markdown",
      "metadata": {
        "id": "MoVGldMD9J4k",
        "colab_type": "text"
      },
      "source": [
        "Let's see how our selection looks like!"
      ]
    },
    {
      "cell_type": "code",
      "metadata": {
        "id": "zRHbbj9qzdUu",
        "colab_type": "code",
        "colab": {}
      },
      "source": [
        "sns.pairplot(df.iloc[:,5:9])"
      ],
      "execution_count": 0,
      "outputs": []
    },
    {
      "cell_type": "markdown",
      "metadata": {
        "id": "5x1Rco5P9VuZ",
        "colab_type": "text"
      },
      "source": [
        "# Finding the outliers"
      ]
    },
    {
      "cell_type": "code",
      "metadata": {
        "id": "6NWB8DN82eDr",
        "colab_type": "code",
        "colab": {}
      },
      "source": [
        "import scipy.stats"
      ],
      "execution_count": 0,
      "outputs": []
    },
    {
      "cell_type": "code",
      "metadata": {
        "id": "sXQdRjJladdE",
        "colab_type": "code",
        "colab": {}
      },
      "source": [
        "data = df.iloc[:,5:11]\n",
        "data.head()"
      ],
      "execution_count": 0,
      "outputs": []
    },
    {
      "cell_type": "markdown",
      "metadata": {
        "id": "8Z8QGSxhGUK_",
        "colab_type": "text"
      },
      "source": [
        "We consider the z-score as a factor to determine the presence of outliers.\n",
        "Z-score is defined as:\n",
        "\n",
        "$z(x) = \\frac{x - \\bar{x}}{\\sigma}$. \n",
        "\n",
        "Data with a z-score above 3 (beyond 3$\\sigma$) are outliers."
      ]
    },
    {
      "cell_type": "code",
      "metadata": {
        "id": "tL2hZIzFGMhX",
        "colab_type": "code",
        "colab": {}
      },
      "source": [
        "data[(abs(scipy.stats.zscore(data)) < 3).all(axis=1)]"
      ],
      "execution_count": 0,
      "outputs": []
    },
    {
      "cell_type": "markdown",
      "metadata": {
        "id": "X3cS9r82-MvM",
        "colab_type": "text"
      },
      "source": [
        "## TTest"
      ]
    },
    {
      "cell_type": "markdown",
      "metadata": {
        "id": "iOsOjdzNbLoU",
        "colab_type": "text"
      },
      "source": [
        "Is there any significant difference in the AGE_AT_SCAN and FIQ features between the two diagnostic categories?"
      ]
    },
    {
      "cell_type": "code",
      "metadata": {
        "id": "T4pZhe9_4-_f",
        "colab_type": "code",
        "colab": {}
      },
      "source": [
        "df_ASD = df[df.DX_GROUP == 'ASD']\n",
        "df_CTR = df[df.DX_GROUP == 'Controls']"
      ],
      "execution_count": 0,
      "outputs": []
    },
    {
      "cell_type": "code",
      "metadata": {
        "id": "a1BJ1Xi7-ISb",
        "colab_type": "code",
        "colab": {}
      },
      "source": [
        "ttest_res = scipy.stats.ttest_ind(df_ASD.AGE_AT_SCAN, df_CTR.AGE_AT_SCAN)\n",
        "ttest_res"
      ],
      "execution_count": 0,
      "outputs": []
    },
    {
      "cell_type": "code",
      "metadata": {
        "id": "NXUp4epp_ndn",
        "colab_type": "code",
        "colab": {}
      },
      "source": [
        "ttest_res = scipy.stats.ttest_ind(df_ASD.FIQ, df_CTR.FIQ)\n",
        "ttest_res"
      ],
      "execution_count": 0,
      "outputs": []
    },
    {
      "cell_type": "markdown",
      "metadata": {
        "id": "6e5uznlObyHj",
        "colab_type": "text"
      },
      "source": [
        "Let's try with a new index of left-right asimmetry in mean thickness"
      ]
    },
    {
      "cell_type": "code",
      "metadata": {
        "id": "U7rDzZo2BDvL",
        "colab_type": "code",
        "colab": {}
      },
      "source": [
        "def LR(data):\n",
        "  LR = data.lh_MeanThickness-data.rh_MeanThickness\n",
        "  LR /= 0.5*(data.rh_MeanThickness+data.lh_MeanThickness)\n",
        "  data['LR'] = LR\n",
        "  return data"
      ],
      "execution_count": 0,
      "outputs": []
    },
    {
      "cell_type": "code",
      "metadata": {
        "id": "-xoRG8dbBjXa",
        "colab_type": "code",
        "colab": {}
      },
      "source": [
        "data = LR(df)\n",
        "data.head()"
      ],
      "execution_count": 0,
      "outputs": []
    },
    {
      "cell_type": "code",
      "metadata": {
        "id": "BLFHJ5y6DmYv",
        "colab_type": "code",
        "colab": {}
      },
      "source": [
        "color = data.DX_GROUP.apply(lambda x:'blue' if x == 'ASD' else 'red')\n",
        "ax = data.plot(x='AGE_AT_SCAN', y='LR', kind='scatter', color=color);\n",
        "#ax.grid()"
      ],
      "execution_count": 0,
      "outputs": []
    },
    {
      "cell_type": "code",
      "metadata": {
        "id": "Nuu4TNLgEu6C",
        "colab_type": "code",
        "colab": {}
      },
      "source": [
        "data.DX_GROUP.unique()"
      ],
      "execution_count": 0,
      "outputs": []
    },
    {
      "cell_type": "code",
      "metadata": {
        "id": "0VWWQr8JDHMd",
        "colab_type": "code",
        "colab": {}
      },
      "source": [
        "LR_ASD = data[data['DX_GROUP'] == 'ASD']['LR']\n",
        "LR_CTR = data[data['DX_GROUP'] == 'Controls']['LR']"
      ],
      "execution_count": 0,
      "outputs": []
    },
    {
      "cell_type": "code",
      "metadata": {
        "id": "PBUEeek7EW_n",
        "colab_type": "code",
        "colab": {}
      },
      "source": [
        "scipy.stats.ttest_ind(LR_ASD, LR_CTR)"
      ],
      "execution_count": 0,
      "outputs": []
    },
    {
      "cell_type": "code",
      "metadata": {
        "id": "T3ns9qfoE4Lo",
        "colab_type": "code",
        "colab": {}
      },
      "source": [
        "boxplot = df.boxplot(column=['LR'], by='DX_GROUP', showfliers=False)\n",
        "boxplot.set_title('Box plot of subject\\'s LR asimmetry index')\n",
        "boxplot.get_figure().suptitle('');\n",
        "boxplot.set_ylabel('LR')\n",
        "\n",
        "boxplot.set_xticklabels(labels=boxplot.get_xticklabels());"
      ],
      "execution_count": 0,
      "outputs": []
    },
    {
      "cell_type": "markdown",
      "metadata": {
        "id": "QpcpjJfWdLDT",
        "colab_type": "text"
      },
      "source": [
        "We can compute the effect size in terms od Cohen's d index"
      ]
    },
    {
      "cell_type": "code",
      "metadata": {
        "id": "tpBMROA4FkLf",
        "colab_type": "code",
        "colab": {}
      },
      "source": [
        "d_cohen = (LR_ASD.mean()-LR_CTR.mean())/data['LR'].std()\n",
        "d_cohen"
      ],
      "execution_count": 0,
      "outputs": []
    },
    {
      "cell_type": "markdown",
      "metadata": {
        "id": "2O4TzJSqeJkj",
        "colab_type": "text"
      },
      "source": [
        "# Find the correlation"
      ]
    },
    {
      "cell_type": "code",
      "metadata": {
        "id": "W0_ac8hkGEAK",
        "colab_type": "code",
        "colab": {}
      },
      "source": [
        "data.drop('SEX', axis=1).corr()"
      ],
      "execution_count": 0,
      "outputs": []
    },
    {
      "cell_type": "code",
      "metadata": {
        "id": "jkl6MegNGiFO",
        "colab_type": "code",
        "colab": {}
      },
      "source": [
        "sns.heatmap(data.drop('SEX', axis=1).corr());"
      ],
      "execution_count": 0,
      "outputs": []
    },
    {
      "cell_type": "code",
      "metadata": {
        "id": "-CN4maFsGpa3",
        "colab_type": "code",
        "colab": {}
      },
      "source": [
        "res = scipy.stats.pearsonr(data['rhCortexVol'], data['LR'])\n",
        "res"
      ],
      "execution_count": 0,
      "outputs": []
    },
    {
      "cell_type": "markdown",
      "metadata": {
        "id": "ZAll1zh8PD3U",
        "colab_type": "text"
      },
      "source": [
        "# Regression model"
      ]
    },
    {
      "cell_type": "code",
      "metadata": {
        "id": "fX5eJ_zXPFJ_",
        "colab_type": "code",
        "colab": {}
      },
      "source": [
        "import sklearn\n",
        "from sklearn.linear_model import LinearRegression"
      ],
      "execution_count": 0,
      "outputs": []
    },
    {
      "cell_type": "code",
      "metadata": {
        "id": "H9aWgJoaPe-q",
        "colab_type": "code",
        "colab": {}
      },
      "source": [
        "lin_reg = LinearRegression()"
      ],
      "execution_count": 0,
      "outputs": []
    },
    {
      "cell_type": "code",
      "metadata": {
        "id": "0T8QXv8DPgbe",
        "colab_type": "code",
        "colab": {}
      },
      "source": [
        "lin_reg"
      ],
      "execution_count": 0,
      "outputs": []
    },
    {
      "cell_type": "code",
      "metadata": {
        "id": "n4QYeGzbPn8a",
        "colab_type": "code",
        "colab": {}
      },
      "source": [
        "X_feat = pd.DataFrame(data=data, columns=['lh_MeanThickness', 'rh_MeanThickness'])\n",
        "Y_ = data.AGE_AT_SCAN"
      ],
      "execution_count": 0,
      "outputs": []
    },
    {
      "cell_type": "code",
      "metadata": {
        "id": "RugcQglUPtmI",
        "colab_type": "code",
        "colab": {}
      },
      "source": [
        "model = lin_reg.fit(X_feat, Y_)"
      ],
      "execution_count": 0,
      "outputs": []
    },
    {
      "cell_type": "code",
      "metadata": {
        "id": "3QhQZo7Zlu7c",
        "colab_type": "code",
        "colab": {}
      },
      "source": [
        "print(model)"
      ],
      "execution_count": 0,
      "outputs": []
    },
    {
      "cell_type": "code",
      "metadata": {
        "id": "8mbQ1XWhl4E1",
        "colab_type": "code",
        "colab": {}
      },
      "source": [
        "[x for x  in dir(model) if not x.startswith('_')]"
      ],
      "execution_count": 0,
      "outputs": []
    },
    {
      "cell_type": "code",
      "metadata": {
        "id": "GA9hb-nlmCBh",
        "colab_type": "code",
        "colab": {}
      },
      "source": [
        "model.score(X_feat, Y_)"
      ],
      "execution_count": 0,
      "outputs": []
    }
  ]
}
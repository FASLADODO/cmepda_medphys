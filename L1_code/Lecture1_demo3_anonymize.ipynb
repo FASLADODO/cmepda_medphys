{
 "cells": [
  {
   "cell_type": "code",
   "execution_count": null,
   "metadata": {},
   "outputs": [],
   "source": [
    "%matplotlib inline"
   ]
  },
  {
   "cell_type": "markdown",
   "metadata": {},
   "source": [
    "\n",
    "# Anonymize DICOM data\n",
    "\n",
    "\n",
    "This example is a starting point to anonymize DICOM data.\n",
    "\n",
    "It shows how to read data and replace tags: person names, patient id,\n",
    "optionally remove curves and private tags, and write the results in a new file.\n"
   ]
  },
  {
   "cell_type": "code",
   "execution_count": null,
   "metadata": {},
   "outputs": [],
   "source": [
    "import pydicom"
   ]
  },
  {
   "cell_type": "markdown",
   "metadata": {},
   "source": [
    "## Anonymize a single file"
   ]
  },
  {
   "cell_type": "code",
   "execution_count": null,
   "metadata": {},
   "outputs": [],
   "source": [
    "filename = '../DATASETS/IMAGES/DICOM_Examples/Brain_MRI/IM67_1slice.dcm'\n",
    "dataset = pydicom.dcmread(filename)"
   ]
  },
  {
   "cell_type": "code",
   "execution_count": null,
   "metadata": {},
   "outputs": [],
   "source": [
    "elements = ['PatientID',\n",
    "                 'PatientBirthDate']\n",
    "for element in elements:\n",
    "    print(dataset.data_element(element))"
   ]
  },
  {
   "cell_type": "code",
   "execution_count": null,
   "metadata": {
    "scrolled": true
   },
   "outputs": [],
   "source": [
    "dataset"
   ]
  },
  {
   "cell_type": "markdown",
   "metadata": {},
   "source": [
    "We can define a callback function to find all tags corresponding to a person\n",
    "names inside the dataset."
   ]
  },
  {
   "cell_type": "code",
   "execution_count": null,
   "metadata": {},
   "outputs": [],
   "source": [
    "def person_names_callback(dataset, data_element):\n",
    "    if data_element.VR == \"PN\": #VR = value representation, PN=persons's name\n",
    "        data_element.value = \"anonymous\"\n",
    "        \n",
    "def scanner_info_callback(dataset, data_element):\n",
    "    if data_element.VR == \"LO\":\n",
    "        data_element.value = \"scanner info\""
   ]
  },
  {
   "cell_type": "markdown",
   "metadata": {},
   "source": [
    "We can use the different callback function to iterate through the dataset but\n",
    "also some other tags such that patient ID, etc.\n",
    "\n",
    "This can be achieved by means of the `walk` method, which iterates over the data elements of the *FileDataset* object:"
   ]
  },
  {
   "cell_type": "code",
   "execution_count": null,
   "metadata": {},
   "outputs": [],
   "source": [
    "dataset.walk(person_names_callback)\n",
    "dataset.walk(scanner_info_callback)"
   ]
  },
  {
   "cell_type": "markdown",
   "metadata": {},
   "source": [
    "or, equivalently, as:"
   ]
  },
  {
   "cell_type": "code",
   "execution_count": null,
   "metadata": {},
   "outputs": [],
   "source": [
    "callbacks = [person_names_callback, scanner_info_callback]\n",
    "for callback in callbacks:\n",
    "    dataset.walk(callback)"
   ]
  },
  {
   "cell_type": "markdown",
   "metadata": {},
   "source": [
    "pydicom allows to remove private tags using `remove_private_tags` method"
   ]
  },
  {
   "cell_type": "code",
   "execution_count": null,
   "metadata": {},
   "outputs": [],
   "source": [
    "dataset.remove_private_tags()"
   ]
  },
  {
   "cell_type": "markdown",
   "metadata": {},
   "source": [
    "Optional data elements can be easily deleted using `del` or `delattr`.\n",
    "\n"
   ]
  },
  {
   "cell_type": "code",
   "execution_count": null,
   "metadata": {},
   "outputs": [],
   "source": [
    "if 'OtherPatientIDs' in dataset:\n",
    "    delattr(dataset, 'OtherPatientIDs')\n",
    "\n",
    "if 'OtherPatientIDsSequence' in dataset:\n",
    "    del dataset.OtherPatientIDsSequence"
   ]
  },
  {
   "cell_type": "markdown",
   "metadata": {},
   "source": [
    "Data can also be modified via assignments:"
   ]
  },
  {
   "cell_type": "code",
   "execution_count": null,
   "metadata": {},
   "outputs": [],
   "source": [
    "dataset.OperatorsName= 'Lucio Verdi'"
   ]
  },
  {
   "cell_type": "markdown",
   "metadata": {},
   "source": [
    "# Anonymizing the birthdate"
   ]
  },
  {
   "cell_type": "markdown",
   "metadata": {},
   "source": [
    "Let's try to set the birth date to the first day of the month"
   ]
  },
  {
   "cell_type": "code",
   "execution_count": null,
   "metadata": {},
   "outputs": [],
   "source": [
    "import datetime\n",
    "import time"
   ]
  },
  {
   "cell_type": "code",
   "execution_count": null,
   "metadata": {},
   "outputs": [],
   "source": [
    "date = '20000122'"
   ]
  },
  {
   "cell_type": "code",
   "execution_count": null,
   "metadata": {},
   "outputs": [],
   "source": [
    "format_ = \"%Y%m%d\"\n",
    "time_struct = time.strptime(date, format_)\n",
    "time_struct"
   ]
  },
  {
   "cell_type": "code",
   "execution_count": null,
   "metadata": {},
   "outputs": [],
   "source": [
    "birth_date = datetime.datetime(*time_struct[:3])\n",
    "birth_date"
   ]
  },
  {
   "cell_type": "markdown",
   "metadata": {},
   "source": [
    "datetime.datetime objects are immutable"
   ]
  },
  {
   "cell_type": "code",
   "execution_count": null,
   "metadata": {},
   "outputs": [],
   "source": [
    "birth_date.day = 1"
   ]
  },
  {
   "cell_type": "code",
   "execution_count": null,
   "metadata": {},
   "outputs": [],
   "source": [
    "new_date = birth_date.replace(day=1, month=5)\n",
    "new_date"
   ]
  },
  {
   "cell_type": "code",
   "execution_count": null,
   "metadata": {},
   "outputs": [],
   "source": [
    "new_date.strftime(format_)"
   ]
  },
  {
   "cell_type": "code",
   "execution_count": null,
   "metadata": {},
   "outputs": [],
   "source": [
    "def anonimize_day(date_str, format_=\"%Y%m%d\", day=1):\n",
    "    time_struct = time.strptime(date_str, format_)\n",
    "    date = datetime.datetime(*time_struct[:3])\n",
    "    new_date = date.replace(day=day)\n",
    "    return new_date.strftime(format_)\n"
   ]
  },
  {
   "cell_type": "code",
   "execution_count": null,
   "metadata": {},
   "outputs": [],
   "source": [
    "tag = 'PatientBirthDate'\n",
    "if tag in dataset:\n",
    "    date_str = dataset.data_element(tag).value\n",
    "    dataset.data_element(tag).value = anonimize_day(date_str, day=5)\n",
    "dataset.PatientBirthDate"
   ]
  },
  {
   "cell_type": "markdown",
   "metadata": {},
   "source": [
    "Finally, it is possible to store the image\n",
    "\n"
   ]
  },
  {
   "cell_type": "code",
   "execution_count": null,
   "metadata": {},
   "outputs": [],
   "source": [
    "output_filename ='IM67_orig_anon.dcm'\n",
    "dataset.save_as(output_filename)"
   ]
  },
  {
   "cell_type": "markdown",
   "metadata": {},
   "source": [
    "## Anonymize a folder"
   ]
  },
  {
   "cell_type": "code",
   "execution_count": null,
   "metadata": {},
   "outputs": [],
   "source": [
    "import glob\n",
    "import os"
   ]
  },
  {
   "cell_type": "code",
   "execution_count": null,
   "metadata": {},
   "outputs": [],
   "source": [
    "DIR_NAME = '../DATASETS/IMAGES/DICOM_Examples/Breast_Mammography_Case2/'\n",
    "PATTERN='*.dcm'"
   ]
  },
  {
   "cell_type": "code",
   "execution_count": null,
   "metadata": {},
   "outputs": [],
   "source": [
    "!ls -R '../DATASETS/IMAGES/DICOM_Examples/Breast_Mammography_Case2/'"
   ]
  },
  {
   "cell_type": "markdown",
   "metadata": {},
   "source": [
    "Here we define a generator to get the names of the dicom files and an anonymization function"
   ]
  },
  {
   "cell_type": "code",
   "execution_count": null,
   "metadata": {},
   "outputs": [],
   "source": [
    "def file_list_generator(dir_name, pattern):\n",
    "    for path, subfolder, files in os.walk(dir_name):\n",
    "        for file in files:\n",
    "            if glob.fnmatch.fnmatch(file, pattern):\n",
    "                yield os.path.join(path, file)"
   ]
  },
  {
   "cell_type": "code",
   "execution_count": null,
   "metadata": {},
   "outputs": [],
   "source": [
    "def anonymize_file(fname):\n",
    "    dataset = pydicom.dcmread(fname)\n",
    "    callbacks = [person_names_callback, scanner_info_callback]\n",
    "    for callback in callbacks:\n",
    "        dataset.walk(callback)\n",
    "    output_filename = fname.replace('.dcm', '_anonym.dcm')\n",
    "    dataset.save_as(output_filename)\n"
   ]
  },
  {
   "cell_type": "code",
   "execution_count": null,
   "metadata": {},
   "outputs": [],
   "source": [
    "import multiprocessing\n",
    "pool = multiprocessing.Pool()"
   ]
  },
  {
   "cell_type": "markdown",
   "metadata": {},
   "source": [
    "The map operator applies the function *anonimyze_file* to each element of the iterator *file_list_generator*."
   ]
  },
  {
   "cell_type": "code",
   "execution_count": null,
   "metadata": {},
   "outputs": [],
   "source": [
    "pool.map(anonymize_file, file_list_generator(DIR_NAME, PATTERN))"
   ]
  },
  {
   "cell_type": "code",
   "execution_count": null,
   "metadata": {},
   "outputs": [],
   "source": [
    "!ls -R '../DATASETS/IMAGES/DICOM_Examples/Breast_Mammography_Case2/'"
   ]
  },
  {
   "cell_type": "code",
   "execution_count": null,
   "metadata": {},
   "outputs": [],
   "source": [
    "#Cleaning up residual files\n",
    "!find '../DATASETS/IMAGES/DICOM_Examples/Breast_Mammography_Case2/' -name *_anonym.dcm -exec rm {} \\;"
   ]
  },
  {
   "cell_type": "code",
   "execution_count": null,
   "metadata": {},
   "outputs": [],
   "source": []
  }
 ],
 "metadata": {
  "kernelspec": {
   "display_name": "Python 3",
   "language": "python",
   "name": "python3"
  },
  "language_info": {
   "codemirror_mode": {
    "name": "ipython",
    "version": 3
   },
   "file_extension": ".py",
   "mimetype": "text/x-python",
   "name": "python",
   "nbconvert_exporter": "python",
   "pygments_lexer": "ipython3",
   "version": "3.7.3"
  }
 },
 "nbformat": 4,
 "nbformat_minor": 1
}

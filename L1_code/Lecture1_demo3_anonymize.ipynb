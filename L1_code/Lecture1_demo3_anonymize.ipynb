{
  "nbformat": 4,
  "nbformat_minor": 0,
  "metadata": {
    "kernelspec": {
      "display_name": "Python 3",
      "language": "python",
      "name": "python3"
    },
    "language_info": {
      "codemirror_mode": {
        "name": "ipython",
        "version": 3
      },
      "file_extension": ".py",
      "mimetype": "text/x-python",
      "name": "python",
      "nbconvert_exporter": "python",
      "pygments_lexer": "ipython3",
      "version": "3.7.3"
    },
    "colab": {
      "name": "Lecture1_demo3_anonymize.ipynb",
      "provenance": [],
      "include_colab_link": true
    }
  },
  "cells": [
    {
      "cell_type": "markdown",
      "metadata": {
        "id": "view-in-github",
        "colab_type": "text"
      },
      "source": [
        "<a href=\"https://colab.research.google.com/github/retico/cmepda_medphys/blob/master/L1_code/Lecture1_demo3_anonymize.ipynb\" target=\"_parent\"><img src=\"https://colab.research.google.com/assets/colab-badge.svg\" alt=\"Open In Colab\"/></a>"
      ]
    },
    {
      "cell_type": "code",
      "metadata": {
        "id": "9kB32tC61Rjx",
        "colab_type": "code",
        "colab": {}
      },
      "source": [
        "%matplotlib inline"
      ],
      "execution_count": 0,
      "outputs": []
    },
    {
      "cell_type": "markdown",
      "metadata": {
        "id": "stFmDqShuwU2",
        "colab_type": "text"
      },
      "source": [
        "# Reading the dataset from Google Drive\n",
        "Prior to this operation be sure to have added the shared folder to your Google Drive"
      ]
    },
    {
      "cell_type": "code",
      "metadata": {
        "id": "1rZTWcJbuvow",
        "colab_type": "code",
        "colab": {}
      },
      "source": [
        "from google.colab import drive\n",
        "drive.mount('/content/drive')"
      ],
      "execution_count": 0,
      "outputs": []
    },
    {
      "cell_type": "code",
      "metadata": {
        "id": "8qod2VgJvg19",
        "colab_type": "code",
        "colab": {}
      },
      "source": [
        "!ls \"/content/drive/My Drive/cmepda_medphys_dataset\""
      ],
      "execution_count": 0,
      "outputs": []
    },
    {
      "cell_type": "code",
      "metadata": {
        "id": "QNVzgUb3vwI2",
        "colab_type": "code",
        "colab": {}
      },
      "source": [
        "DATASETS = \"/content/drive/My Drive/cmepda_medphys_dataset\""
      ],
      "execution_count": 0,
      "outputs": []
    },
    {
      "cell_type": "markdown",
      "metadata": {
        "id": "qMeygKEv1RkB",
        "colab_type": "text"
      },
      "source": [
        "## Anonymize a single file"
      ]
    },
    {
      "cell_type": "code",
      "metadata": {
        "id": "0nmRWN4m16Gt",
        "colab_type": "code",
        "colab": {}
      },
      "source": [
        "!pip install pydicom"
      ],
      "execution_count": 0,
      "outputs": []
    },
    {
      "cell_type": "code",
      "metadata": {
        "id": "OMdc5BL62Nj2",
        "colab_type": "code",
        "colab": {}
      },
      "source": [
        "import pydicom"
      ],
      "execution_count": 0,
      "outputs": []
    },
    {
      "cell_type": "code",
      "metadata": {
        "id": "gqGGK5CP1RkE",
        "colab_type": "code",
        "colab": {}
      },
      "source": [
        "filename = DATASETS + \"/IMAGES/DICOM_Examples/Brain_MRI/IM67_1slice.dcm\"\n",
        "dataset = pydicom.dcmread(filename)"
      ],
      "execution_count": 0,
      "outputs": []
    },
    {
      "cell_type": "code",
      "metadata": {
        "id": "JAFRCdN31RkH",
        "colab_type": "code",
        "colab": {}
      },
      "source": [
        "elements = ['PatientID',\n",
        "                 'PatientBirthDate']\n",
        "for element in elements:\n",
        "    print(dataset.data_element(element))"
      ],
      "execution_count": 0,
      "outputs": []
    },
    {
      "cell_type": "code",
      "metadata": {
        "scrolled": true,
        "id": "omMjEq7z1RkM",
        "colab_type": "code",
        "colab": {}
      },
      "source": [
        "dataset"
      ],
      "execution_count": 0,
      "outputs": []
    },
    {
      "cell_type": "markdown",
      "metadata": {
        "id": "zH1J1Zrt1RkP",
        "colab_type": "text"
      },
      "source": [
        "We can define a callback function to find all tags corresponding to a person\n",
        "names inside the dataset."
      ]
    },
    {
      "cell_type": "code",
      "metadata": {
        "id": "ZWmpXcQl1RkR",
        "colab_type": "code",
        "colab": {}
      },
      "source": [
        "def person_names_callback(dataset, data_element):\n",
        "    if data_element.VR == \"PN\": #VR = value representation, PN=persons's name\n",
        "        data_element.value = \"anonymous\"\n",
        "        \n",
        "def scanner_info_callback(dataset, data_element):\n",
        "    if data_element.VR == \"LO\":\n",
        "        data_element.value = \"scanner info\""
      ],
      "execution_count": 0,
      "outputs": []
    },
    {
      "cell_type": "markdown",
      "metadata": {
        "id": "3uf2L6Ey1RkV",
        "colab_type": "text"
      },
      "source": [
        "We can use the different callback function to iterate through the dataset but\n",
        "also some other tags such that patient ID, etc.\n",
        "\n",
        "This can be achieved by means of the `walk` method, which iterates over the data elements of the *FileDataset* object:"
      ]
    },
    {
      "cell_type": "code",
      "metadata": {
        "id": "bV9wfJwz1RkV",
        "colab_type": "code",
        "colab": {}
      },
      "source": [
        "dataset.walk(person_names_callback)\n",
        "dataset.walk(scanner_info_callback)"
      ],
      "execution_count": 0,
      "outputs": []
    },
    {
      "cell_type": "markdown",
      "metadata": {
        "id": "wM_tLf7j1Rka",
        "colab_type": "text"
      },
      "source": [
        "or, equivalently, as:"
      ]
    },
    {
      "cell_type": "code",
      "metadata": {
        "id": "Wdr_5hQz1Rkb",
        "colab_type": "code",
        "colab": {}
      },
      "source": [
        "callbacks = [person_names_callback, scanner_info_callback]\n",
        "for callback in callbacks:\n",
        "    dataset.walk(callback)"
      ],
      "execution_count": 0,
      "outputs": []
    },
    {
      "cell_type": "markdown",
      "metadata": {
        "id": "4w2AQLxn1Rke",
        "colab_type": "text"
      },
      "source": [
        "pydicom allows to remove private tags using `remove_private_tags` method"
      ]
    },
    {
      "cell_type": "code",
      "metadata": {
        "id": "hBBxMgtA1Rkg",
        "colab_type": "code",
        "colab": {}
      },
      "source": [
        "dataset.remove_private_tags()"
      ],
      "execution_count": 0,
      "outputs": []
    },
    {
      "cell_type": "markdown",
      "metadata": {
        "id": "LSwOouj31Rkj",
        "colab_type": "text"
      },
      "source": [
        "Optional data elements can be easily deleted using `del` or `delattr`.\n",
        "\n"
      ]
    },
    {
      "cell_type": "code",
      "metadata": {
        "id": "WeNEV-_U1Rkk",
        "colab_type": "code",
        "colab": {}
      },
      "source": [
        "if 'OtherPatientIDs' in dataset:\n",
        "    delattr(dataset, 'OtherPatientIDs')\n",
        "\n",
        "if 'OtherPatientIDsSequence' in dataset:\n",
        "    del dataset.OtherPatientIDsSequence"
      ],
      "execution_count": 0,
      "outputs": []
    },
    {
      "cell_type": "markdown",
      "metadata": {
        "id": "CNoHnpFC1Rkn",
        "colab_type": "text"
      },
      "source": [
        "Data can also be modified via assignments:"
      ]
    },
    {
      "cell_type": "code",
      "metadata": {
        "id": "niLQkgzf1Rko",
        "colab_type": "code",
        "colab": {}
      },
      "source": [
        "dataset.OperatorsName= 'Lucio Verdi'"
      ],
      "execution_count": 0,
      "outputs": []
    },
    {
      "cell_type": "markdown",
      "metadata": {
        "id": "txylhE-E1Rj6",
        "colab_type": "text"
      },
      "source": [
        "\n",
        "# Anonymize DICOM data\n",
        "\n",
        "\n",
        "This example is a starting point to anonymize DICOM data.\n",
        "\n",
        "It shows how to read data and replace tags: person names, patient id,\n",
        "optionally remove curves and private tags, and write the results in a new file.\n"
      ]
    },
    {
      "cell_type": "markdown",
      "metadata": {
        "id": "m5ixxhbe1Rkq",
        "colab_type": "text"
      },
      "source": [
        "# Anonymizing the birthdate"
      ]
    },
    {
      "cell_type": "markdown",
      "metadata": {
        "id": "hzD4yADT1Rks",
        "colab_type": "text"
      },
      "source": [
        "Let's try to set the birth date to the first day of the month"
      ]
    },
    {
      "cell_type": "code",
      "metadata": {
        "id": "8SQSFSAx1Rkt",
        "colab_type": "code",
        "colab": {}
      },
      "source": [
        "import datetime\n",
        "import time"
      ],
      "execution_count": 0,
      "outputs": []
    },
    {
      "cell_type": "code",
      "metadata": {
        "id": "utGlqzs21Rkw",
        "colab_type": "code",
        "colab": {}
      },
      "source": [
        "date = '20000122'"
      ],
      "execution_count": 0,
      "outputs": []
    },
    {
      "cell_type": "code",
      "metadata": {
        "id": "iplvy7DM1Rky",
        "colab_type": "code",
        "colab": {}
      },
      "source": [
        "format_ = \"%Y%m%d\"\n",
        "time_struct = time.strptime(date, format_)\n",
        "time_struct"
      ],
      "execution_count": 0,
      "outputs": []
    },
    {
      "cell_type": "code",
      "metadata": {
        "id": "YEcOtj4q1Rk2",
        "colab_type": "code",
        "colab": {}
      },
      "source": [
        "birth_date = datetime.datetime(*time_struct[:3])\n",
        "birth_date"
      ],
      "execution_count": 0,
      "outputs": []
    },
    {
      "cell_type": "markdown",
      "metadata": {
        "id": "dgyENNBi1Rk4",
        "colab_type": "text"
      },
      "source": [
        "datetime.datetime objects are immutable"
      ]
    },
    {
      "cell_type": "code",
      "metadata": {
        "id": "OxHFy9yP1Rk6",
        "colab_type": "code",
        "colab": {}
      },
      "source": [
        "birth_date.day = 1"
      ],
      "execution_count": 0,
      "outputs": []
    },
    {
      "cell_type": "code",
      "metadata": {
        "id": "waCuorSp1Rk8",
        "colab_type": "code",
        "colab": {}
      },
      "source": [
        "new_date = birth_date.replace(day=1, month=5)\n",
        "new_date"
      ],
      "execution_count": 0,
      "outputs": []
    },
    {
      "cell_type": "code",
      "metadata": {
        "id": "L447MN591Rk_",
        "colab_type": "code",
        "colab": {}
      },
      "source": [
        "new_date.strftime(format_)"
      ],
      "execution_count": 0,
      "outputs": []
    },
    {
      "cell_type": "code",
      "metadata": {
        "id": "u7aSfCIv1RlD",
        "colab_type": "code",
        "colab": {}
      },
      "source": [
        "def anonimize_day(date_str, format_=\"%Y%m%d\", day=1):\n",
        "    time_struct = time.strptime(date_str, format_)\n",
        "    date = datetime.datetime(*time_struct[:3])\n",
        "    new_date = date.replace(day=day)\n",
        "    return new_date.strftime(format_)\n"
      ],
      "execution_count": 0,
      "outputs": []
    },
    {
      "cell_type": "code",
      "metadata": {
        "id": "oGDT326H1RlF",
        "colab_type": "code",
        "colab": {}
      },
      "source": [
        "tag = 'PatientBirthDate'\n",
        "if tag in dataset:\n",
        "    date_str = dataset.data_element(tag).value\n",
        "    dataset.data_element(tag).value = anonimize_day(date_str, day=5)\n",
        "dataset.PatientBirthDate"
      ],
      "execution_count": 0,
      "outputs": []
    },
    {
      "cell_type": "markdown",
      "metadata": {
        "id": "DyvYSVU-1RlH",
        "colab_type": "text"
      },
      "source": [
        "Finally, it is possible to store the image\n",
        "\n"
      ]
    },
    {
      "cell_type": "code",
      "metadata": {
        "id": "dusvlVPD1RlJ",
        "colab_type": "code",
        "colab": {}
      },
      "source": [
        "output_filename ='IM67_orig_anon.dcm'\n",
        "dataset.save_as(output_filename)"
      ],
      "execution_count": 0,
      "outputs": []
    },
    {
      "cell_type": "markdown",
      "metadata": {
        "id": "emt6r6td1RlL",
        "colab_type": "text"
      },
      "source": [
        "## Anonymize a folder"
      ]
    },
    {
      "cell_type": "code",
      "metadata": {
        "id": "4ilXAGe21RlM",
        "colab_type": "code",
        "colab": {}
      },
      "source": [
        "import glob\n",
        "import os"
      ],
      "execution_count": 0,
      "outputs": []
    },
    {
      "cell_type": "code",
      "metadata": {
        "id": "XxiUWE_h1RlO",
        "colab_type": "code",
        "colab": {}
      },
      "source": [
        "DIR_NAME = DATASETS + \"/IMAGES/DICOM_Examples/Breast_Mammography_Case2/\"\n",
        "PATTERN='*.dcm'"
      ],
      "execution_count": 0,
      "outputs": []
    },
    {
      "cell_type": "code",
      "metadata": {
        "id": "R6Q_Bbfj1RlR",
        "colab_type": "code",
        "colab": {}
      },
      "source": [
        "!ls -R '/content/drive/My Drive/cmepda_medphys_dataset/IMAGES/DICOM_Examples/Breast_Mammography_Case2/'"
      ],
      "execution_count": 0,
      "outputs": []
    },
    {
      "cell_type": "markdown",
      "metadata": {
        "id": "DLV7EVg21RlT",
        "colab_type": "text"
      },
      "source": [
        "Here we define a generator to get the names of the dicom files and an anonymization function"
      ]
    },
    {
      "cell_type": "code",
      "metadata": {
        "id": "wA6diTeW1RlU",
        "colab_type": "code",
        "colab": {}
      },
      "source": [
        "def file_list_generator(dir_name, pattern):\n",
        "    for path, subfolder, files in os.walk(dir_name):\n",
        "        for file in files:\n",
        "            if glob.fnmatch.fnmatch(file, pattern):\n",
        "                yield os.path.join(path, file)"
      ],
      "execution_count": 0,
      "outputs": []
    },
    {
      "cell_type": "code",
      "metadata": {
        "id": "9-2PkWrT1RlW",
        "colab_type": "code",
        "colab": {}
      },
      "source": [
        "def anonymize_file(fname):\n",
        "    dataset = pydicom.dcmread(fname)\n",
        "    callbacks = [person_names_callback, scanner_info_callback]\n",
        "    for callback in callbacks:\n",
        "        dataset.walk(callback)\n",
        "    output_filename = fname.replace('.dcm', '_anonym.dcm')\n",
        "    dataset.save_as(output_filename)\n"
      ],
      "execution_count": 0,
      "outputs": []
    },
    {
      "cell_type": "code",
      "metadata": {
        "id": "xCSWoSOE1RlY",
        "colab_type": "code",
        "colab": {}
      },
      "source": [
        "import multiprocessing\n",
        "pool = multiprocessing.Pool()"
      ],
      "execution_count": 0,
      "outputs": []
    },
    {
      "cell_type": "markdown",
      "metadata": {
        "id": "C3ZvVHHZ1Rla",
        "colab_type": "text"
      },
      "source": [
        "The map operator applies the function *anonimyze_file* to each element of the iterator *file_list_generator*."
      ]
    },
    {
      "cell_type": "code",
      "metadata": {
        "id": "y7_y5fZh1Rla",
        "colab_type": "code",
        "colab": {}
      },
      "source": [
        "pool.map(anonymize_file, file_list_generator(DIR_NAME, PATTERN))"
      ],
      "execution_count": 0,
      "outputs": []
    },
    {
      "cell_type": "code",
      "metadata": {
        "id": "k-dH8YiZ3CxT",
        "colab_type": "code",
        "colab": {}
      },
      "source": [
        "glob.glob(os.path.join(DIR_NAME,'*/*anonym.dcm'))"
      ],
      "execution_count": 0,
      "outputs": []
    }
  ]
}
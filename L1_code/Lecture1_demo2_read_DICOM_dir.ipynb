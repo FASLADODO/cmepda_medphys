{
 "cells": [
  {
   "cell_type": "code",
   "execution_count": null,
   "metadata": {},
   "outputs": [],
   "source": [
    "%matplotlib inline"
   ]
  },
  {
   "cell_type": "markdown",
   "metadata": {},
   "source": [
    "## Demo 2: reading a DICOM directory using the pydicom package\n",
    "\n",
    "This example illustrates how to use the pydicom package to open a DICOM directory, \n",
    "print some dataset information (metadata), and view the images on different planes using matplotlib.\n"
   ]
  },
  {
   "cell_type": "code",
   "execution_count": null,
   "metadata": {},
   "outputs": [],
   "source": [
    "import os\n",
    "import glob\n",
    "import numpy as np\n",
    "import matplotlib.pyplot as plt\n",
    "import pydicom\n",
    "from pydicom.filereader import read_dicomdir"
   ]
  },
  {
   "cell_type": "markdown",
   "metadata": {},
   "source": [
    "We use the `glob.glob` to get a list of all the files matching the pattern *data_path/\\* *, i.e. data_path/whatever"
   ]
  },
  {
   "cell_type": "code",
   "execution_count": null,
   "metadata": {},
   "outputs": [],
   "source": [
    "data_path = '../DATASETS/IMAGES/DICOM_Examples/Lung_CT_cd2/12031814'\n",
    "dicom_files = glob.glob(os.path.join(data_path, '*'))\n"
   ]
  },
  {
   "cell_type": "code",
   "execution_count": null,
   "metadata": {},
   "outputs": [],
   "source": [
    "# Print out the first 5 file names to verify we're in the right folder.\n",
    "print(\"Total of {} DICOM images.\\nFirst 5 filenames:\".format(len(dicom_files)))\n",
    "dicom_files[:5]"
   ]
  },
  {
   "cell_type": "markdown",
   "metadata": {},
   "source": [
    "Let's try to open the first one as a check"
   ]
  },
  {
   "cell_type": "code",
   "execution_count": null,
   "metadata": {},
   "outputs": [],
   "source": [
    "dataset = pydicom.dcmread(dicom_files[0])\n",
    "\n",
    "plt.imshow(dataset.pixel_array, cmap=plt.cm.bone)\n",
    "plt.show()\n"
   ]
  },
  {
   "cell_type": "markdown",
   "metadata": {},
   "source": [
    "# Read a dicomdir file"
   ]
  },
  {
   "cell_type": "code",
   "execution_count": null,
   "metadata": {},
   "outputs": [],
   "source": [
    "import numpy as np\n",
    "import matplotlib.pyplot as plt\n",
    "import pydicom\n",
    "from pydicom.filereader import read_dicomdir"
   ]
  },
  {
   "cell_type": "code",
   "execution_count": null,
   "metadata": {},
   "outputs": [],
   "source": [
    "# mio path\n",
    "filepath = '../DATASETS/IMAGES/DICOM_Examples/Lung_CT_cd2/dicomdir'"
   ]
  },
  {
   "cell_type": "code",
   "execution_count": null,
   "metadata": {},
   "outputs": [],
   "source": [
    "dicom_dir = read_dicomdir(filepath)\n",
    "dicom_dir"
   ]
  },
  {
   "cell_type": "markdown",
   "metadata": {},
   "source": [
    "# Load dicom files into Numpy arrays"
   ]
  },
  {
   "cell_type": "code",
   "execution_count": null,
   "metadata": {},
   "outputs": [],
   "source": [
    "import numpy as np\n",
    "import pydicom\n",
    "import glob\n",
    "import matplotlib.pyplot as plt"
   ]
  },
  {
   "cell_type": "code",
   "execution_count": null,
   "metadata": {},
   "outputs": [],
   "source": [
    "data_path = '../DATASETS/IMAGES/DICOM_Examples/Lung_CT_cd2/12031814'\n",
    "dicom_files = glob.glob(os.path.join(data_path, '*'))"
   ]
  },
  {
   "cell_type": "markdown",
   "metadata": {},
   "source": [
    "From the first dicom file, I read some useful data such as the number of rows and columns, and how the image intensities are represented, i.e. int, uint16, float, etc."
   ]
  },
  {
   "cell_type": "code",
   "execution_count": null,
   "metadata": {},
   "outputs": [],
   "source": [
    "dataset = pydicom.read_file(dicom_files[0])"
   ]
  },
  {
   "cell_type": "code",
   "execution_count": null,
   "metadata": {},
   "outputs": [],
   "source": [
    "shape = dataset.Rows, dataset.Columns, len(dicom_files)\n",
    "shape"
   ]
  },
  {
   "cell_type": "code",
   "execution_count": null,
   "metadata": {},
   "outputs": [],
   "source": [
    "dataset.pixel_array.dtype"
   ]
  },
  {
   "cell_type": "markdown",
   "metadata": {},
   "source": [
    "For the sake of efficiency, we prealloacate the memory required to store the images"
   ]
  },
  {
   "cell_type": "code",
   "execution_count": null,
   "metadata": {},
   "outputs": [],
   "source": [
    "CT_array = np.zeros(shape, dtype=dataset.pixel_array.dtype)\n",
    "for i, fname in enumerate(dicom_files):\n",
    "    CT_array[:,:,i] = pydicom.read_file(fname).pixel_array"
   ]
  },
  {
   "cell_type": "code",
   "execution_count": null,
   "metadata": {},
   "outputs": [],
   "source": [
    "CT_array.shape"
   ]
  },
  {
   "cell_type": "code",
   "execution_count": null,
   "metadata": {},
   "outputs": [],
   "source": [
    "ct = CT_array[:,:, CT_array.shape[2]//2 ]\n",
    "plt.imshow(ct, cmap='gray')"
   ]
  },
  {
   "cell_type": "code",
   "execution_count": null,
   "metadata": {},
   "outputs": [],
   "source": [
    "\n",
    "ct = CT_array[:, CT_array.shape[1]//2 , :]\n",
    "plt.imshow(ct, cmap='gray')\n"
   ]
  },
  {
   "cell_type": "markdown",
   "metadata": {},
   "source": [
    "## A more correct approach"
   ]
  },
  {
   "cell_type": "markdown",
   "metadata": {},
   "source": [
    "We assumed that dicom files are lexicographically ordered but to be sure to order the columns correctly we must read some information about the images from the dicom header."
   ]
  },
  {
   "cell_type": "code",
   "execution_count": null,
   "metadata": {},
   "outputs": [],
   "source": [
    "import numpy as np\n",
    "import pydicom\n",
    "import glob\n",
    "import os"
   ]
  },
  {
   "cell_type": "code",
   "execution_count": null,
   "metadata": {},
   "outputs": [],
   "source": [
    "data_path = '../DATASETS/IMAGES/DICOM_Examples/Lung_CT_cd2/12031814'\n",
    "dicom_files = glob.glob(os.path.join(data_path, '*'))"
   ]
  },
  {
   "cell_type": "markdown",
   "metadata": {},
   "source": [
    "**Slice Location (0020,1041)** is defined as the relative position of the image plane expressed in mm.\n",
    "This information is relative to an unspecified implementation specific reference point."
   ]
  },
  {
   "cell_type": "markdown",
   "metadata": {},
   "source": [
    "After reading all of the dicom files, we filter out the ones without the SliceLocation field"
   ]
  },
  {
   "cell_type": "code",
   "execution_count": null,
   "metadata": {},
   "outputs": [],
   "source": [
    "dicom_slices = [ pydicom.read_file(fname) for fname in dicom_files]\n",
    "slices = [dcm_slice for dcm_slice in dicom_slices if hasattr(dcm_slice, 'SliceLocation')]"
   ]
  },
  {
   "cell_type": "code",
   "execution_count": null,
   "metadata": {},
   "outputs": [],
   "source": [
    "slices[0].SliceLocation"
   ]
  },
  {
   "cell_type": "markdown",
   "metadata": {},
   "source": [
    "Let's sort the list by means of the slice location attribute, i.e. the correct order"
   ]
  },
  {
   "cell_type": "code",
   "execution_count": null,
   "metadata": {},
   "outputs": [],
   "source": [
    "slices.sort(key=lambda x: x.SliceLocation)"
   ]
  },
  {
   "cell_type": "markdown",
   "metadata": {},
   "source": [
    "We now build a NumPy array which contains the images"
   ]
  },
  {
   "cell_type": "code",
   "execution_count": null,
   "metadata": {},
   "outputs": [],
   "source": [
    "shape = slices[0].Rows, slices[0].Columns, len(slices)\n",
    "\n",
    "CT_array = np.zeros(shape, dtype=slices[0].pixel_array.dtype)\n",
    "for i, dcm in enumerate(slices):\n",
    "    CT_array[:,:,i] = dcm.pixel_array"
   ]
  },
  {
   "cell_type": "code",
   "execution_count": null,
   "metadata": {},
   "outputs": [],
   "source": [
    "CT_array.shape"
   ]
  },
  {
   "cell_type": "code",
   "execution_count": null,
   "metadata": {},
   "outputs": [],
   "source": [
    "a1 = plt.subplot(2, 2, 3)\n",
    "plt.imshow(CT_array[:, CT_array.shape[1]//2,:], cmap='gray')"
   ]
  },
  {
   "cell_type": "markdown",
   "metadata": {},
   "source": [
    "When plotting the different views, it is necessary to preserve the aspect ratio "
   ]
  },
  {
   "cell_type": "code",
   "execution_count": null,
   "metadata": {},
   "outputs": [],
   "source": [
    "import matplotlib.pyplot as plt"
   ]
  },
  {
   "cell_type": "code",
   "execution_count": null,
   "metadata": {},
   "outputs": [],
   "source": [
    "x, y, z = *slices[0].PixelSpacing, slices[0].SliceThickness\n",
    "x,y,z"
   ]
  },
  {
   "cell_type": "code",
   "execution_count": null,
   "metadata": {},
   "outputs": [],
   "source": [
    "aspect_ratio = {\n",
    "    'axial': y/x,\n",
    "    'sagittal': y/z,\n",
    "    'coronal': x/z\n",
    "}"
   ]
  },
  {
   "cell_type": "code",
   "execution_count": null,
   "metadata": {
    "scrolled": true
   },
   "outputs": [],
   "source": [
    "# plot 3 orthogonal slices\n",
    "a1 = plt.subplot(2, 2, 3)\n",
    "plt.imshow(CT_array[:, :, CT_array.shape[2]//2], cmap='gray')\n",
    "a1.set_aspect(aspect_ratio['axial'])\n",
    "a1.axis('off')\n",
    "a1.set_title('Axial')\n",
    "\n",
    "a2 = plt.subplot(2, 2, 1)\n",
    "ct = CT_array[:, CT_array.shape[1]//2 , :].T\n",
    "ct = np.flipud(ct)\n",
    "plt.imshow(ct, cmap='gray')\n",
    "a2.set_aspect(aspect_ratio['sagittal'])\n",
    "a2.axis('off')\n",
    "a2.set_title('Sagittal')\n",
    "\n",
    "\n",
    "a3 = plt.subplot(2, 2, 2)\n",
    "\n",
    "ct = CT_array[CT_array.shape[0]//2, :, :].T\n",
    "ct = np.flipud(ct)\n",
    "\n",
    "plt.imshow(ct, cmap='gray')\n",
    "a3.set_aspect(aspect_ratio['coronal'])\n",
    "a3.axis('off')\n",
    "a3.set_title('Coronal');\n"
   ]
  },
  {
   "cell_type": "markdown",
   "metadata": {},
   "source": [
    "# Another mistake: different series"
   ]
  },
  {
   "cell_type": "markdown",
   "metadata": {},
   "source": [
    "Actually, we made a mistake. In the folder, the files belong to different series. Let's find out how many!"
   ]
  },
  {
   "cell_type": "code",
   "execution_count": null,
   "metadata": {},
   "outputs": [],
   "source": [
    "from collections import Counter"
   ]
  },
  {
   "cell_type": "code",
   "execution_count": null,
   "metadata": {},
   "outputs": [],
   "source": [
    "count_series = Counter([slice_.SeriesNumber for slice_ in slices])\n",
    "count_series"
   ]
  },
  {
   "cell_type": "markdown",
   "metadata": {},
   "source": [
    "Let's build the series \"3\" list"
   ]
  },
  {
   "cell_type": "code",
   "execution_count": null,
   "metadata": {},
   "outputs": [],
   "source": [
    "slices_3 = [slice_ for slice_ in slices if slice_.SeriesNumber == 3]\n",
    "len(slices_3)"
   ]
  },
  {
   "cell_type": "code",
   "execution_count": null,
   "metadata": {},
   "outputs": [],
   "source": [
    "slices_3[0].SeriesDescription"
   ]
  },
  {
   "cell_type": "markdown",
   "metadata": {},
   "source": [
    "Using a dictionary we can build the lists for all the different  series"
   ]
  },
  {
   "cell_type": "code",
   "execution_count": null,
   "metadata": {},
   "outputs": [],
   "source": [
    "series = {k: [s for s in slices if s.SeriesNumber == k] for k in count_series.keys()}\n",
    "series.keys()"
   ]
  },
  {
   "cell_type": "code",
   "execution_count": null,
   "metadata": {},
   "outputs": [],
   "source": [
    "series"
   ]
  },
  {
   "cell_type": "code",
   "execution_count": null,
   "metadata": {},
   "outputs": [],
   "source": []
  }
 ],
 "metadata": {
  "kernelspec": {
   "display_name": "Python 3",
   "language": "python",
   "name": "python3"
  },
  "language_info": {
   "codemirror_mode": {
    "name": "ipython",
    "version": 3
   },
   "file_extension": ".py",
   "mimetype": "text/x-python",
   "name": "python",
   "nbconvert_exporter": "python",
   "pygments_lexer": "ipython3",
   "version": "3.7.3"
  }
 },
 "nbformat": 4,
 "nbformat_minor": 2
}

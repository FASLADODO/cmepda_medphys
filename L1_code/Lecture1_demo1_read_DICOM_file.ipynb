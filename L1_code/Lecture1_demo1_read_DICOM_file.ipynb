{
  "nbformat": 4,
  "nbformat_minor": 0,
  "metadata": {
    "kernelspec": {
      "display_name": "Python 3",
      "language": "python",
      "name": "python3"
    },
    "language_info": {
      "codemirror_mode": {
        "name": "ipython",
        "version": 3
      },
      "file_extension": ".py",
      "mimetype": "text/x-python",
      "name": "python",
      "nbconvert_exporter": "python",
      "pygments_lexer": "ipython3",
      "version": "3.7.3"
    },
    "colab": {
      "name": "Lecture1_demo1_read_DICOM_file.ipynb",
      "provenance": [],
      "include_colab_link": true
    }
  },
  "cells": [
    {
      "cell_type": "markdown",
      "metadata": {
        "id": "view-in-github",
        "colab_type": "text"
      },
      "source": [
        "<a href=\"https://colab.research.google.com/github/retico/cmepda_medphys/blob/master/L1_code/Lecture1_demo1_read_DICOM_file.ipynb\" target=\"_parent\"><img src=\"https://colab.research.google.com/assets/colab-badge.svg\" alt=\"Open In Colab\"/></a>"
      ]
    },
    {
      "cell_type": "markdown",
      "metadata": {
        "id": "stFmDqShuwU2",
        "colab_type": "text"
      },
      "source": [
        "# Reading the dataset from Google Drive\n",
        "Prior to this operation be sure to have added the shared folder to your Google Drive"
      ]
    },
    {
      "cell_type": "code",
      "metadata": {
        "id": "1rZTWcJbuvow",
        "colab_type": "code",
        "colab": {}
      },
      "source": [
        "from google.colab import drive\n",
        "drive.mount('/content/drive')"
      ],
      "execution_count": 0,
      "outputs": []
    },
    {
      "cell_type": "code",
      "metadata": {
        "id": "8qod2VgJvg19",
        "colab_type": "code",
        "colab": {}
      },
      "source": [
        "!ls \"/content/drive/My Drive/cmepda_medphys_dataset\""
      ],
      "execution_count": 0,
      "outputs": []
    },
    {
      "cell_type": "code",
      "metadata": {
        "id": "QNVzgUb3vwI2",
        "colab_type": "code",
        "colab": {}
      },
      "source": [
        "DATASETS = \"/content/drive/My Drive/cmepda_medphys_dataset\""
      ],
      "execution_count": 0,
      "outputs": []
    },
    {
      "cell_type": "markdown",
      "metadata": {
        "id": "kKs2h5xxvKPf",
        "colab_type": "text"
      },
      "source": [
        "# Working with DICOM files"
      ]
    },
    {
      "cell_type": "code",
      "metadata": {
        "id": "jp6jnRTkNEi4",
        "colab_type": "code",
        "colab": {}
      },
      "source": [
        "%matplotlib inline"
      ],
      "execution_count": 0,
      "outputs": []
    },
    {
      "cell_type": "markdown",
      "metadata": {
        "id": "toauehZnNEi8",
        "colab_type": "text"
      },
      "source": [
        "`%matplotlib inline` \n",
        "is a ‘magic functions’ which sets the backend of matplotlib to the 'inline' backend. It allows to display  the output of plotting commands inline within frontends like the Jupyter notebook, directly below the code cell that produced it. The resulting plots will then also be stored in the notebook document."
      ]
    },
    {
      "cell_type": "markdown",
      "metadata": {
        "id": "879oU3WDNEi9",
        "colab_type": "text"
      },
      "source": [
        "## Demo 1: reading a DICOM file using the pydicom package\n",
        "\n",
        "This example illustrates how to use the pydicom package to open a DICOM file, print some dataset information (metadata), and show images using matplotlib.\n",
        "\n",
        "Find the documentation and the installation instructions at \n",
        "https://pydicom.github.io/pydicom/stable/\n",
        "\n",
        "You can create and work in an enviroment with python 3 and the numpy library, which is required to manipulate pixel data"
      ]
    },
    {
      "cell_type": "code",
      "metadata": {
        "id": "8E4wwQ4ov53f",
        "colab_type": "code",
        "colab": {}
      },
      "source": [
        "!pip install pydicom"
      ],
      "execution_count": 0,
      "outputs": []
    },
    {
      "cell_type": "code",
      "metadata": {
        "id": "YPDl7vRoNEi-",
        "colab_type": "code",
        "colab": {}
      },
      "source": [
        "import os\n",
        "import pydicom\n",
        "import matplotlib.pyplot as plt"
      ],
      "execution_count": 0,
      "outputs": []
    },
    {
      "cell_type": "code",
      "metadata": {
        "id": "dkW9KfhNNEi_",
        "colab_type": "code",
        "colab": {}
      },
      "source": [
        "filename = os.path.join(DATASETS, \"IMAGES\", \"DICOM_Examples\", \"Brain_MRI\", \"IM67_1slice.dcm\")\n",
        "dataset = pydicom.dcmread(filename)"
      ],
      "execution_count": 0,
      "outputs": []
    },
    {
      "cell_type": "markdown",
      "metadata": {
        "id": "9-EA5YByNEjB",
        "colab_type": "text"
      },
      "source": [
        "The `dcmread` function returns a *FileDataset* object, which makes accessible the metadata contained in the DICOM header and the image as numpy array."
      ]
    },
    {
      "cell_type": "code",
      "metadata": {
        "id": "85V8cAcbNEjC",
        "colab_type": "code",
        "colab": {}
      },
      "source": [
        "print(type(dataset))"
      ],
      "execution_count": 0,
      "outputs": []
    },
    {
      "cell_type": "markdown",
      "metadata": {
        "id": "vXmDXJp-NEjD",
        "colab_type": "text"
      },
      "source": [
        "Images are NumPy arrays"
      ]
    },
    {
      "cell_type": "code",
      "metadata": {
        "id": "e6Ef-mpANEjE",
        "colab_type": "code",
        "colab": {}
      },
      "source": [
        "print(type(dataset.pixel_array))"
      ],
      "execution_count": 0,
      "outputs": []
    },
    {
      "cell_type": "code",
      "metadata": {
        "id": "mTYM301hNEjH",
        "colab_type": "code",
        "colab": {}
      },
      "source": [
        "# to show the dataset content you can just type dataset \n",
        "dataset"
      ],
      "execution_count": 0,
      "outputs": []
    },
    {
      "cell_type": "code",
      "metadata": {
        "id": "PyScv8TQNEjI",
        "colab_type": "code",
        "colab": {}
      },
      "source": [
        "# Normal mode:\n",
        "print()\n",
        "print(\"Filename.........:\", filename)\n",
        "print(\"Storage type.....:\", dataset.SOPClassUID)\n",
        "print()\n",
        "\n",
        "pat_name = dataset.PatientName\n",
        "display_name = pat_name.family_name + \", \" + pat_name.given_name\n",
        "display_name = ','.join([pat_name.family_name, pat_name.given_name])\n",
        "print(\"Patient's name...:\", display_name)\n",
        "print(\"Patient id.......:\", dataset.PatientID)\n",
        "print(\"Modality.........:\", dataset.Modality)\n",
        "print(\"Study Date.......:\", dataset.StudyDate)\n",
        "\n",
        "if 'PixelData' in dataset:\n",
        "    rows = int(dataset.Rows)\n",
        "    cols = int(dataset.Columns)\n",
        "    print(\"Image size.......: {rows:d} x {cols:d}, {size:d} bytes\".format(\n",
        "        rows=rows, cols=cols, size=len(dataset.PixelData)))\n",
        "    if 'PixelSpacing' in dataset:\n",
        "        print(\"Pixel spacing....:\", dataset.PixelSpacing)\n"
      ],
      "execution_count": 0,
      "outputs": []
    },
    {
      "cell_type": "code",
      "metadata": {
        "id": "fQ39PA2RNEjK",
        "colab_type": "code",
        "colab": {}
      },
      "source": [
        "# use .get() if not sure the item exists, and want a default value if missing\n",
        "print(\"Slice location...:\", dataset.get('SliceLocation', \"(missing)\"))"
      ],
      "execution_count": 0,
      "outputs": []
    },
    {
      "cell_type": "code",
      "metadata": {
        "id": "m1puIdE4NEjL",
        "colab_type": "code",
        "colab": {}
      },
      "source": [
        "# plot the image using matplotlib\n",
        "plt.imshow(dataset.pixel_array, cmap=plt.cm.bone)\n",
        "plt.show()"
      ],
      "execution_count": 0,
      "outputs": []
    },
    {
      "cell_type": "code",
      "metadata": {
        "id": "AzOQL7U-NEjM",
        "colab_type": "code",
        "colab": {}
      },
      "source": [
        ""
      ],
      "execution_count": 0,
      "outputs": []
    }
  ]
}
{
  "nbformat": 4,
  "nbformat_minor": 0,
  "metadata": {
    "colab": {
      "name": "Lecture10_autoenc.ipynb",
      "provenance": [],
      "include_colab_link": true
    },
    "kernelspec": {
      "name": "python3",
      "display_name": "Python 3"
    }
  },
  "cells": [
    {
      "cell_type": "markdown",
      "metadata": {
        "id": "view-in-github",
        "colab_type": "text"
      },
      "source": [
        "<a href=\"https://colab.research.google.com/github/retico/cmepda_medphys/blob/master/L10_code/Lecture10_autoenc.ipynb\" target=\"_parent\"><img src=\"https://colab.research.google.com/assets/colab-badge.svg\" alt=\"Open In Colab\"/></a>"
      ]
    },
    {
      "cell_type": "markdown",
      "metadata": {
        "id": "hEXs3Fzs_RMs",
        "colab_type": "text"
      },
      "source": [
        "## Convolutional autoencoder for mass segmentation"
      ]
    },
    {
      "cell_type": "markdown",
      "metadata": {
        "id": "E9pGqDKO_do7",
        "colab_type": "text"
      },
      "source": [
        "## Reading data from Google Drive"
      ]
    },
    {
      "cell_type": "code",
      "metadata": {
        "id": "85dNXPXH5EKb",
        "colab_type": "code",
        "colab": {}
      },
      "source": [
        "from google.colab import drive\n",
        "drive.mount('/content/gdrive')"
      ],
      "execution_count": 0,
      "outputs": []
    },
    {
      "cell_type": "code",
      "metadata": {
        "id": "BHMZbpSo5S-2",
        "colab_type": "code",
        "colab": {}
      },
      "source": [
        "!unzip -q /content/gdrive/My\\ Drive/cmepda_medphys_dataset/IMAGES/Mammography_masses/large_sample_Im_segmented_ref.zip -d /content/\n"
      ],
      "execution_count": 0,
      "outputs": []
    },
    {
      "cell_type": "markdown",
      "metadata": {
        "id": "cTXcVb4d_vT7",
        "colab_type": "text"
      },
      "source": [
        "## Overview of the dataset"
      ]
    },
    {
      "cell_type": "code",
      "metadata": {
        "id": "oMKlrTJq6iCB",
        "colab_type": "code",
        "colab": {}
      },
      "source": [
        "import os\n",
        "import PIL"
      ],
      "execution_count": 0,
      "outputs": []
    },
    {
      "cell_type": "code",
      "metadata": {
        "id": "4aKlUu546OO-",
        "colab_type": "code",
        "colab": {}
      },
      "source": [
        "dataset_path = \"/content/large_sample_Im_segmented_ref\""
      ],
      "execution_count": 0,
      "outputs": []
    },
    {
      "cell_type": "markdown",
      "metadata": {
        "id": "JikOsFAwACxu",
        "colab_type": "text"
      },
      "source": [
        "We have two kinds of images: *_resized*, i.e. the masses, and *_mass_mask*, the masks. "
      ]
    },
    {
      "cell_type": "code",
      "metadata": {
        "id": "Wb7zFuZu6MOO",
        "colab_type": "code",
        "colab": {}
      },
      "source": [
        "!ls /content/large_sample_Im_segmented_ref | head -n 4"
      ],
      "execution_count": 0,
      "outputs": []
    },
    {
      "cell_type": "code",
      "metadata": {
        "id": "GNUFr8Rc6jj8",
        "colab_type": "code",
        "colab": {}
      },
      "source": [
        "PIL.Image.open(os.path.join(dataset_path, \"0001p1_1_1_2_resized.pgm\"))\n",
        "\n"
      ],
      "execution_count": 0,
      "outputs": []
    },
    {
      "cell_type": "code",
      "metadata": {
        "id": "muKhL0cC6ooN",
        "colab_type": "code",
        "colab": {}
      },
      "source": [
        "PIL.Image.open(os.path.join(dataset_path, \"0001p1_1_1_2_mass_mask.pgm\"))"
      ],
      "execution_count": 0,
      "outputs": []
    },
    {
      "cell_type": "markdown",
      "metadata": {
        "id": "z-gK-WIeAbOC",
        "colab_type": "text"
      },
      "source": [
        "## Reading the images in memory"
      ]
    },
    {
      "cell_type": "code",
      "metadata": {
        "id": "By-YBLYq7I_9",
        "colab_type": "code",
        "colab": {}
      },
      "source": [
        "import glob\n",
        "import math\n",
        "\n",
        "import numpy as np\n",
        "import matplotlib.pyplot as plt\n",
        "\n",
        "from skimage.io import imread"
      ],
      "execution_count": 0,
      "outputs": []
    },
    {
      "cell_type": "code",
      "metadata": {
        "id": "VpPSQbTP7R3a",
        "colab_type": "code",
        "colab": {}
      },
      "source": [
        "def read_dataset(dataset_path, x_id =\"_resized\", y_id=\"_mass_mask\"):\n",
        "    fnames = glob.glob(os.path.join(dataset_path, f\"*{x_id}.pgm\"  ))\n",
        "    X = []\n",
        "    Y = []\n",
        "    for fname in fnames:\n",
        "        X.append(imread(fname)[1:,1:,np.newaxis])\n",
        "        Y.append(imread(fname.replace(x_id, y_id))[1:,1:,np.newaxis])\n",
        "    return np.array(X, dtype='float32'), np.array(Y, dtype='float32') "
      ],
      "execution_count": 0,
      "outputs": []
    },
    {
      "cell_type": "code",
      "metadata": {
        "id": "xGkZ2WaH7VuH",
        "colab_type": "code",
        "colab": {}
      },
      "source": [
        "X,Y = read_dataset(dataset_path)\n"
      ],
      "execution_count": 0,
      "outputs": []
    },
    {
      "cell_type": "code",
      "metadata": {
        "id": "YV7t9sqm7dVG",
        "colab_type": "code",
        "colab": {}
      },
      "source": [
        "X /= 255\n",
        "Y /= 255"
      ],
      "execution_count": 0,
      "outputs": []
    },
    {
      "cell_type": "code",
      "metadata": {
        "id": "Zn_riRrR7gTm",
        "colab_type": "code",
        "colab": {}
      },
      "source": [
        "X.min(), X.max()"
      ],
      "execution_count": 0,
      "outputs": []
    },
    {
      "cell_type": "code",
      "metadata": {
        "id": "hVEtwtIk7igq",
        "colab_type": "code",
        "colab": {}
      },
      "source": [
        "X.shape, Y.shape"
      ],
      "execution_count": 0,
      "outputs": []
    },
    {
      "cell_type": "markdown",
      "metadata": {
        "id": "W0AStooEBK0N",
        "colab_type": "text"
      },
      "source": [
        "## Defining the model"
      ]
    },
    {
      "cell_type": "markdown",
      "metadata": {
        "id": "J_V-rwX6BPXm",
        "colab_type": "text"
      },
      "source": [
        "We are trying to define a convolutional autoencoder. The following figure is just an example of a possible architecture.\n",
        "![Convolutional autoencoder](http://indexsmart.mirasmart.com/ISMRM2017/PDFfiles/images/8249/ISMRM2017-008249_Fig1.png)"
      ]
    },
    {
      "cell_type": "code",
      "metadata": {
        "id": "xursHLl17qiB",
        "colab_type": "code",
        "colab": {}
      },
      "source": [
        "from keras.layers import Conv2D, Conv2DTranspose, Input\n",
        "from keras.models import Model, load_model"
      ],
      "execution_count": 0,
      "outputs": []
    },
    {
      "cell_type": "code",
      "metadata": {
        "id": "tUg99av17uf1",
        "colab_type": "code",
        "colab": {}
      },
      "source": [
        "def make_model(shape=(124,124,1)):\n",
        "    input_tensor = Input(shape=shape)\n",
        "    x = Conv2D(32, (5, 5), strides=2, padding='same', activation='relu')(input_tensor)\n",
        "    x = Conv2D(64, (3,3), strides=2,  padding='same', activation='relu')(x)\n",
        "    x = Conv2D(128, (3,3), strides=2, padding='same', activation='relu')(x)\n",
        "\n",
        "    x = Conv2DTranspose(64, (3,3), strides=2,  padding='same', activation='relu')(x)\n",
        "    x = Conv2DTranspose(32, (3,3), strides=2, padding='same',activation='relu')(x)\n",
        "    x = Conv2DTranspose(32, (3,3), strides=2, padding='same',activation='relu')(x)\n",
        "    out = Conv2D(1, (5,5), padding='valid',activation='tanh')(x)\n",
        "    model = Model(input_tensor, out)\n",
        "    \n",
        "    return model"
      ],
      "execution_count": 0,
      "outputs": []
    },
    {
      "cell_type": "code",
      "metadata": {
        "id": "5VbopgOW8jHN",
        "colab_type": "code",
        "colab": {}
      },
      "source": [
        "model = make_model()\n",
        "model.summary()"
      ],
      "execution_count": 0,
      "outputs": []
    },
    {
      "cell_type": "code",
      "metadata": {
        "id": "mnFKmobu8ls8",
        "colab_type": "code",
        "colab": {}
      },
      "source": [
        "model.compile(optimizer='adam', loss='binary_crossentropy', metrics=['MAE'])"
      ],
      "execution_count": 0,
      "outputs": []
    },
    {
      "cell_type": "code",
      "metadata": {
        "id": "usYLqkuW9EWk",
        "colab_type": "code",
        "colab": {}
      },
      "source": [
        "model.fit(X,Y, epochs=250)"
      ],
      "execution_count": 0,
      "outputs": []
    },
    {
      "cell_type": "code",
      "metadata": {
        "id": "NUwlHW3i-3wQ",
        "colab_type": "code",
        "colab": {}
      },
      "source": [
        "!cp /content/gdrive/My\\ Drive/cmepda_medphys_dataset/autoenc_mammo_mass.h5 /content/"
      ],
      "execution_count": 0,
      "outputs": []
    },
    {
      "cell_type": "code",
      "metadata": {
        "id": "zg-LS76G9Jy1",
        "colab_type": "code",
        "colab": {}
      },
      "source": [
        "model = keras.models.load_model(\"/content/autoenc_mammo_mass.h5\")"
      ],
      "execution_count": 0,
      "outputs": []
    },
    {
      "cell_type": "code",
      "metadata": {
        "id": "Bv5tz1Or9S-1",
        "colab_type": "code",
        "colab": {}
      },
      "source": [
        "idx=75\n",
        "xtest = X[idx][np.newaxis,...]\n",
        "ytest = Y[idx][np.newaxis,...]\n",
        "\n",
        "plt.figure(figsize=(14,4))\n",
        "plt.subplot(1,3,3)\n",
        "plt.imshow(model.predict(xtest).squeeze()>0.3)\n",
        "plt.subplot(1,3,2)\n",
        "plt.imshow(ytest.squeeze())\n",
        "plt.subplot(1,3,1)\n",
        "plt.imshow(xtest.squeeze())"
      ],
      "execution_count": 0,
      "outputs": []
    },
    {
      "cell_type": "code",
      "metadata": {
        "id": "dVZ98-ek_NL7",
        "colab_type": "code",
        "colab": {}
      },
      "source": [
        ""
      ],
      "execution_count": 0,
      "outputs": []
    },
    {
      "cell_type": "markdown",
      "metadata": {
        "id": "CMHONVcFCJqq",
        "colab_type": "text"
      },
      "source": [
        "## Out-of-memory dataset"
      ]
    },
    {
      "cell_type": "markdown",
      "metadata": {
        "id": "Px-LUKRhCcbi",
        "colab_type": "text"
      },
      "source": [
        "Quite often we deal with datasets which cannot be fully loaded into memory.\n",
        "\n",
        "What's the best strategy to achieve high performances when loadind data from disks?\n",
        "\n",
        "There is no universal answer to this question.\n",
        "\n",
        "In the following lines we will briefly discuss the usage of keras sequences."
      ]
    },
    {
      "cell_type": "code",
      "metadata": {
        "id": "_Wsclph3CMhT",
        "colab_type": "code",
        "colab": {}
      },
      "source": [
        "class MassesSequence(keras.utils.Sequence):\n",
        "\n",
        "        def __init__(self, dataset_path, batch_size, x_id =\"_resized\", y_id=\"_mass_mask\"):\n",
        "            self.y = glob.glob(os.path.join(dataset_path, f\"*{y_id}.pgm\"  ))\n",
        "            self.x = [fname.replace(y_id, x_id) for fname in self.y]\n",
        "            \n",
        "            self.batch_size = batch_size\n",
        "\n",
        "        def __len__(self):\n",
        "            return math.ceil(len(self.x) / self.batch_size)\n",
        "\n",
        "        def _process(self, img_fname):\n",
        "            img = skimage.io.imread(img_fname)\n",
        "            \n",
        "            img = img[1:,1:]\n",
        "            return img[:,:,np.newaxis]/255\n",
        "            \n",
        "        def __getitem__(self, idx):\n",
        "            batch_x = self.x[idx * self.batch_size:(idx + 1) * self.batch_size]\n",
        "            \n",
        "            batch_y = self.y[idx * self.batch_size:(idx + 1) * self.batch_size]\n",
        "            \n",
        "            X=[];\n",
        "            Y=[];\n",
        "            for fname_x, fname_y in zip(batch_x, batch_y): \n",
        "                X.append(self._process(fname_x))\n",
        "                Y.append(self._process(fname_y))\n",
        "            \n",
        "            return np.array(X, dtype='float32'), np.array(Y, dtype='float32')"
      ],
      "execution_count": 0,
      "outputs": []
    },
    {
      "cell_type": "code",
      "metadata": {
        "id": "sOcyFpT-DbDW",
        "colab_type": "code",
        "colab": {}
      },
      "source": [
        "mass_gen = MassesSequence(dataset_path, 8)"
      ],
      "execution_count": 0,
      "outputs": []
    },
    {
      "cell_type": "code",
      "metadata": {
        "id": "AA7BeoWqDc7L",
        "colab_type": "code",
        "colab": {}
      },
      "source": [
        "batch = mass_gen.__getitem__(7)\n",
        "batch[0].shape"
      ],
      "execution_count": 0,
      "outputs": []
    },
    {
      "cell_type": "code",
      "metadata": {
        "id": "8hxUSznbDjDR",
        "colab_type": "code",
        "colab": {}
      },
      "source": [
        "plt.imshow(np.squeeze(batch[0][3]))\n",
        "plt.figure()\n",
        "plt.imshow(np.squeeze(batch[1][3]))"
      ],
      "execution_count": 0,
      "outputs": []
    },
    {
      "cell_type": "code",
      "metadata": {
        "id": "pQ1S5oGdDl4E",
        "colab_type": "code",
        "colab": {}
      },
      "source": [
        "model = make_model()\n",
        "model.compile(optimizer='adam', loss='binary_crossentropy', metrics=['MAE'])\n",
        "model.fit_generator(generator=mass_gen, steps_per_epoch=100, epochs=10)"
      ],
      "execution_count": 0,
      "outputs": []
    },
    {
      "cell_type": "code",
      "metadata": {
        "id": "AAjQsMTZE659",
        "colab_type": "code",
        "colab": {}
      },
      "source": [
        ""
      ],
      "execution_count": 0,
      "outputs": []
    }
  ]
}
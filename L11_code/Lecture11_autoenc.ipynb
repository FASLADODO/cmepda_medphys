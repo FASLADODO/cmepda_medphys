{
 "cells": [
  {
   "cell_type": "markdown",
   "metadata": {
    "colab_type": "text",
    "id": "view-in-github"
   },
   "source": [
    "<a href=\"https://colab.research.google.com/github/retico/cmepda_medphys/blob/master/L11_code/Lecture11_autoenc.ipynb\" target=\"_parent\"><img src=\"https://colab.research.google.com/assets/colab-badge.svg\" alt=\"Open In Colab\"/></a>"
   ]
  },
  {
   "cell_type": "markdown",
   "metadata": {
    "colab_type": "text",
    "id": "hEXs3Fzs_RMs"
   },
   "source": [
    "## Convolutional autoencoder for mass segmentation"
   ]
  },
  {
   "cell_type": "markdown",
   "metadata": {
    "colab_type": "text",
    "id": "E9pGqDKO_do7"
   },
   "source": [
    "## Reading data from Google Drive"
   ]
  },
  {
   "cell_type": "code",
   "execution_count": 0,
   "metadata": {
    "colab": {},
    "colab_type": "code",
    "id": "85dNXPXH5EKb"
   },
   "outputs": [],
   "source": [
    "from google.colab import drive\n",
    "drive.mount('/content/gdrive')"
   ]
  },
  {
   "cell_type": "code",
   "execution_count": 0,
   "metadata": {
    "colab": {},
    "colab_type": "code",
    "id": "BHMZbpSo5S-2"
   },
   "outputs": [],
   "source": [
    "!unzip -q /content/gdrive/My\\ Drive/cmepda_medphys_dataset/IMAGES/Mammography_masses/large_sample_Im_segmented_ref.zip -d /content/\n"
   ]
  },
  {
   "cell_type": "markdown",
   "metadata": {
    "colab_type": "text",
    "id": "cTXcVb4d_vT7"
   },
   "source": [
    "## Overview of the dataset"
   ]
  },
  {
   "cell_type": "code",
   "execution_count": 0,
   "metadata": {
    "colab": {},
    "colab_type": "code",
    "id": "oMKlrTJq6iCB"
   },
   "outputs": [],
   "source": [
    "import os\n",
    "import PIL"
   ]
  },
  {
   "cell_type": "code",
   "execution_count": 0,
   "metadata": {
    "colab": {},
    "colab_type": "code",
    "id": "4aKlUu546OO-"
   },
   "outputs": [],
   "source": [
    "dataset_path = \"/content/large_sample_Im_segmented_ref\""
   ]
  },
  {
   "cell_type": "markdown",
   "metadata": {
    "colab_type": "text",
    "id": "JikOsFAwACxu"
   },
   "source": [
    "We have two kinds of images: *_resized*, i.e. the masses, and *_mass_mask*, the masks. "
   ]
  },
  {
   "cell_type": "code",
   "execution_count": 0,
   "metadata": {
    "colab": {},
    "colab_type": "code",
    "id": "Wb7zFuZu6MOO"
   },
   "outputs": [],
   "source": [
    "!ls /content/large_sample_Im_segmented_ref | head -n 4"
   ]
  },
  {
   "cell_type": "code",
   "execution_count": 0,
   "metadata": {
    "colab": {},
    "colab_type": "code",
    "id": "GNUFr8Rc6jj8"
   },
   "outputs": [],
   "source": [
    "PIL.Image.open(os.path.join(dataset_path, \"0001p1_1_1_2_resized.pgm\"))\n",
    "\n"
   ]
  },
  {
   "cell_type": "code",
   "execution_count": 0,
   "metadata": {
    "colab": {},
    "colab_type": "code",
    "id": "muKhL0cC6ooN"
   },
   "outputs": [],
   "source": [
    "PIL.Image.open(os.path.join(dataset_path, \"0001p1_1_1_2_mass_mask.pgm\"))"
   ]
  },
  {
   "cell_type": "markdown",
   "metadata": {
    "colab_type": "text",
    "id": "z-gK-WIeAbOC"
   },
   "source": [
    "## Reading the images in memory"
   ]
  },
  {
   "cell_type": "code",
   "execution_count": 0,
   "metadata": {
    "colab": {},
    "colab_type": "code",
    "id": "By-YBLYq7I_9"
   },
   "outputs": [],
   "source": [
    "import glob\n",
    "import math\n",
    "\n",
    "import numpy as np\n",
    "import matplotlib.pyplot as plt\n",
    "\n",
    "from skimage.io import imread"
   ]
  },
  {
   "cell_type": "code",
   "execution_count": 0,
   "metadata": {
    "colab": {},
    "colab_type": "code",
    "id": "VpPSQbTP7R3a"
   },
   "outputs": [],
   "source": [
    "def read_dataset(dataset_path, x_id =\"_resized\", y_id=\"_mass_mask\"):\n",
    "    fnames = glob.glob(os.path.join(dataset_path, f\"*{x_id}.pgm\"  ))\n",
    "    X = []\n",
    "    Y = []\n",
    "    for fname in fnames:\n",
    "        X.append(imread(fname)[1:,1:,np.newaxis])\n",
    "        Y.append(imread(fname.replace(x_id, y_id))[1:,1:,np.newaxis])\n",
    "    return np.array(X, dtype='float32'), np.array(Y, dtype='float32') "
   ]
  },
  {
   "cell_type": "code",
   "execution_count": 0,
   "metadata": {
    "colab": {},
    "colab_type": "code",
    "id": "xGkZ2WaH7VuH"
   },
   "outputs": [],
   "source": [
    "X,Y = read_dataset(dataset_path)\n"
   ]
  },
  {
   "cell_type": "code",
   "execution_count": 0,
   "metadata": {
    "colab": {},
    "colab_type": "code",
    "id": "YV7t9sqm7dVG"
   },
   "outputs": [],
   "source": [
    "X /= 255\n",
    "Y /= 255"
   ]
  },
  {
   "cell_type": "code",
   "execution_count": 0,
   "metadata": {
    "colab": {},
    "colab_type": "code",
    "id": "Zn_riRrR7gTm"
   },
   "outputs": [],
   "source": [
    "X.min(), X.max()"
   ]
  },
  {
   "cell_type": "code",
   "execution_count": 0,
   "metadata": {
    "colab": {},
    "colab_type": "code",
    "id": "hVEtwtIk7igq"
   },
   "outputs": [],
   "source": [
    "X.shape, Y.shape"
   ]
  },
  {
   "cell_type": "markdown",
   "metadata": {
    "colab_type": "text",
    "id": "W0AStooEBK0N"
   },
   "source": [
    "## Defining the model"
   ]
  },
  {
   "cell_type": "markdown",
   "metadata": {
    "colab_type": "text",
    "id": "J_V-rwX6BPXm"
   },
   "source": [
    "We are trying to define a convolutional autoencoder. The following figure is just an example of a possible architecture (Liu et al, Deep Convolutional Auto-Encoder and 3D Deformable Approach for Tissue Segmentation in Magnetic Resonance Imaging, Proc. Intl. Soc. Mag. Reson. Med. 25, 2017).\n",
    "![Convolutional autoencoder](http://indexsmart.mirasmart.com/ISMRM2017/PDFfiles/images/8249/ISMRM2017-008249_Fig1.png)"
   ]
  },
  {
   "cell_type": "code",
   "execution_count": 0,
   "metadata": {
    "colab": {},
    "colab_type": "code",
    "id": "xursHLl17qiB"
   },
   "outputs": [],
   "source": [
    "from keras.layers import Conv2D, Conv2DTranspose, Input\n",
    "from keras.models import Model, load_model"
   ]
  },
  {
   "cell_type": "code",
   "execution_count": 0,
   "metadata": {
    "colab": {},
    "colab_type": "code",
    "id": "tUg99av17uf1"
   },
   "outputs": [],
   "source": [
    "def make_model(shape=(124,124,1)):\n",
    "    input_tensor = Input(shape=shape)\n",
    "    x = Conv2D(32, (5, 5), strides=2, padding='same', activation='relu')(input_tensor)\n",
    "    x = Conv2D(64, (3,3), strides=2,  padding='same', activation='relu')(x)\n",
    "    x = Conv2D(128, (3,3), strides=2, padding='same', activation='relu')(x)\n",
    "\n",
    "    x = Conv2DTranspose(64, (3,3), strides=2,  padding='same', activation='relu')(x)\n",
    "    x = Conv2DTranspose(32, (3,3), strides=2, padding='same',activation='relu')(x)\n",
    "    x = Conv2DTranspose(32, (3,3), strides=2, padding='same',activation='relu')(x)\n",
    "    out = Conv2D(1, (5,5), padding='valid',activation='tanh')(x)\n",
    "    model = Model(input_tensor, out)\n",
    "    \n",
    "    return model"
   ]
  },
  {
   "cell_type": "code",
   "execution_count": 0,
   "metadata": {
    "colab": {},
    "colab_type": "code",
    "id": "5VbopgOW8jHN"
   },
   "outputs": [],
   "source": [
    "model = make_model()\n",
    "model.summary()"
   ]
  },
  {
   "cell_type": "code",
   "execution_count": 0,
   "metadata": {
    "colab": {},
    "colab_type": "code",
    "id": "mnFKmobu8ls8"
   },
   "outputs": [],
   "source": [
    "model.compile(optimizer='adam', loss='binary_crossentropy', metrics=['MAE'])"
   ]
  },
  {
   "cell_type": "code",
   "execution_count": 0,
   "metadata": {
    "colab": {},
    "colab_type": "code",
    "id": "usYLqkuW9EWk"
   },
   "outputs": [],
   "source": [
    "model.fit(X,Y, epochs=250)"
   ]
  },
  {
   "cell_type": "code",
   "execution_count": 0,
   "metadata": {
    "colab": {},
    "colab_type": "code",
    "id": "NUwlHW3i-3wQ"
   },
   "outputs": [],
   "source": [
    "!cp /content/gdrive/My\\ Drive/cmepda_medphys_dataset/autoenc_mammo_mass.h5 /content/"
   ]
  },
  {
   "cell_type": "code",
   "execution_count": 0,
   "metadata": {
    "colab": {},
    "colab_type": "code",
    "id": "zg-LS76G9Jy1"
   },
   "outputs": [],
   "source": [
    "model = load_model(\"/content/autoenc_mammo_mass.h5\")"
   ]
  },
  {
   "cell_type": "code",
   "execution_count": 0,
   "metadata": {
    "colab": {},
    "colab_type": "code",
    "id": "3HQbpjPajiYL"
   },
   "outputs": [],
   "source": [
    "model.summary()"
   ]
  },
  {
   "cell_type": "code",
   "execution_count": 0,
   "metadata": {
    "colab": {},
    "colab_type": "code",
    "id": "Bv5tz1Or9S-1"
   },
   "outputs": [],
   "source": [
    "idx=125\n",
    "xtest = X[idx][np.newaxis,...]\n",
    "ytest = Y[idx][np.newaxis,...]\n",
    "\n",
    "plt.figure(figsize=(14,4))\n",
    "plt.subplot(1,3,3)\n",
    "plt.imshow(model.predict(xtest).squeeze()>0.3)\n",
    "plt.subplot(1,3,2)\n",
    "plt.imshow(ytest.squeeze())\n",
    "plt.subplot(1,3,1)\n",
    "plt.imshow(xtest.squeeze())"
   ]
  },
  {
   "cell_type": "code",
   "execution_count": 0,
   "metadata": {
    "colab": {},
    "colab_type": "code",
    "id": "dVZ98-ek_NL7"
   },
   "outputs": [],
   "source": []
  },
  {
   "cell_type": "markdown",
   "metadata": {
    "colab_type": "text",
    "id": "CMHONVcFCJqq"
   },
   "source": [
    "## Out-of-memory dataset"
   ]
  },
  {
   "cell_type": "markdown",
   "metadata": {
    "colab_type": "text",
    "id": "Px-LUKRhCcbi"
   },
   "source": [
    "Quite often we deal with datasets which cannot be fully loaded into memory.\n",
    "\n",
    "What's the best strategy to achieve high performances when loadind data from disks?\n",
    "\n",
    "There is no universal answer to this question.\n",
    "\n",
    "In the following lines we will briefly discuss the usage of keras sequences."
   ]
  },
  {
   "cell_type": "code",
   "execution_count": 0,
   "metadata": {
    "colab": {},
    "colab_type": "code",
    "id": "0IlZ_pSalYZy"
   },
   "outputs": [],
   "source": [
    "import keras\n",
    "import skimage"
   ]
  },
  {
   "cell_type": "code",
   "execution_count": 0,
   "metadata": {
    "colab": {},
    "colab_type": "code",
    "id": "_Wsclph3CMhT"
   },
   "outputs": [],
   "source": [
    "class MassesSequence(keras.utils.Sequence):\n",
    "\n",
    "        def __init__(self, dataset_path, batch_size, x_id =\"_resized\", y_id=\"_mass_mask\"):\n",
    "            self.y = glob.glob(os.path.join(dataset_path, f\"*{y_id}.pgm\"  ))\n",
    "            self.x = [fname.replace(y_id, x_id) for fname in self.y]\n",
    "            \n",
    "            self.batch_size = batch_size\n",
    "\n",
    "        def __len__(self):\n",
    "            return math.ceil(len(self.x) / self.batch_size)\n",
    "\n",
    "        def _process(self, img_fname):\n",
    "            img = skimage.io.imread(img_fname)\n",
    "            \n",
    "            img = img[1:,1:]\n",
    "            return img[:,:,np.newaxis]/255\n",
    "            \n",
    "        def __getitem__(self, idx):\n",
    "            batch_x = self.x[idx * self.batch_size:(idx + 1) * self.batch_size]\n",
    "            \n",
    "            batch_y = self.y[idx * self.batch_size:(idx + 1) * self.batch_size]\n",
    "            \n",
    "            X=[];\n",
    "            Y=[];\n",
    "            for fname_x, fname_y in zip(batch_x, batch_y): \n",
    "                X.append(self._process(fname_x))\n",
    "                Y.append(self._process(fname_y))\n",
    "            \n",
    "            return np.array(X, dtype='float32'), np.array(Y, dtype='float32')"
   ]
  },
  {
   "cell_type": "code",
   "execution_count": 0,
   "metadata": {
    "colab": {},
    "colab_type": "code",
    "id": "sOcyFpT-DbDW"
   },
   "outputs": [],
   "source": [
    "mass_gen = MassesSequence(dataset_path, 8)"
   ]
  },
  {
   "cell_type": "code",
   "execution_count": 0,
   "metadata": {
    "colab": {},
    "colab_type": "code",
    "id": "AA7BeoWqDc7L"
   },
   "outputs": [],
   "source": [
    "batch = mass_gen.__getitem__(7)\n",
    "batch[0].shape"
   ]
  },
  {
   "cell_type": "code",
   "execution_count": 0,
   "metadata": {
    "colab": {},
    "colab_type": "code",
    "id": "8hxUSznbDjDR"
   },
   "outputs": [],
   "source": [
    "plt.imshow(np.squeeze(batch[0][3]))\n",
    "plt.figure()\n",
    "plt.imshow(np.squeeze(batch[1][3]))"
   ]
  },
  {
   "cell_type": "code",
   "execution_count": 0,
   "metadata": {
    "colab": {},
    "colab_type": "code",
    "id": "pQ1S5oGdDl4E"
   },
   "outputs": [],
   "source": [
    "model = make_model()\n",
    "model.compile(optimizer='adam', loss='binary_crossentropy', metrics=['MAE'])\n",
    "model.fit_generator(generator=mass_gen, steps_per_epoch=100, epochs=10)"
   ]
  },
  {
   "cell_type": "code",
   "execution_count": 0,
   "metadata": {
    "colab": {},
    "colab_type": "code",
    "id": "AAjQsMTZE659"
   },
   "outputs": [],
   "source": []
  }
 ],
 "metadata": {
  "colab": {
   "include_colab_link": true,
   "name": "Lecture11_autoenc.ipynb",
   "provenance": []
  },
  "kernelspec": {
   "display_name": "Python 3",
   "language": "python",
   "name": "python3"
  },
  "language_info": {
   "codemirror_mode": {
    "name": "ipython",
    "version": 3
   },
   "file_extension": ".py",
   "mimetype": "text/x-python",
   "name": "python",
   "nbconvert_exporter": "python",
   "pygments_lexer": "ipython3",
   "version": "3.7.3"
  }
 },
 "nbformat": 4,
 "nbformat_minor": 1
}
